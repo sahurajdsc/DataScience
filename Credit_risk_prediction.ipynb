{
 "cells": [
  {
   "cell_type": "code",
   "execution_count": 4,
   "id": "cb30002b",
   "metadata": {},
   "outputs": [],
   "source": [
    "import numpy as np\n",
    "import pandas as pd\n",
    "from sklearn.model_selection import train_test_split\n",
    "from sklearn.linear_model import LogisticRegression\n",
    "from sklearn import metrics\n",
    "import seaborn as sns\n",
    "import matplotlib.pyplot as plt\n",
    "from sklearn.preprocessing import LabelEncoder, StandardScaler"
   ]
  },
  {
   "cell_type": "code",
   "execution_count": 5,
   "id": "76f468c3",
   "metadata": {},
   "outputs": [],
   "source": [
    "data = pd.read_csv(R'C:\\Users\\RajnarayanSahu\\OneDrive - National Pen Company\\Documents\\All imp files\\Data Science\\Projects\\Credit Card Fraud\\application_data.csv')"
   ]
  },
  {
   "cell_type": "code",
   "execution_count": 6,
   "id": "5c436ede",
   "metadata": {},
   "outputs": [
    {
     "data": {
      "text/html": [
       "<div>\n",
       "<style scoped>\n",
       "    .dataframe tbody tr th:only-of-type {\n",
       "        vertical-align: middle;\n",
       "    }\n",
       "\n",
       "    .dataframe tbody tr th {\n",
       "        vertical-align: top;\n",
       "    }\n",
       "\n",
       "    .dataframe thead th {\n",
       "        text-align: right;\n",
       "    }\n",
       "</style>\n",
       "<table border=\"1\" class=\"dataframe\">\n",
       "  <thead>\n",
       "    <tr style=\"text-align: right;\">\n",
       "      <th></th>\n",
       "      <th>SK_ID_CURR</th>\n",
       "      <th>TARGET</th>\n",
       "      <th>NAME_CONTRACT_TYPE</th>\n",
       "      <th>CODE_GENDER</th>\n",
       "      <th>FLAG_OWN_CAR</th>\n",
       "      <th>FLAG_OWN_REALTY</th>\n",
       "      <th>CNT_CHILDREN</th>\n",
       "      <th>AMT_INCOME_TOTAL</th>\n",
       "      <th>AMT_CREDIT</th>\n",
       "      <th>AMT_ANNUITY</th>\n",
       "      <th>...</th>\n",
       "      <th>FLAG_DOCUMENT_18</th>\n",
       "      <th>FLAG_DOCUMENT_19</th>\n",
       "      <th>FLAG_DOCUMENT_20</th>\n",
       "      <th>FLAG_DOCUMENT_21</th>\n",
       "      <th>AMT_REQ_CREDIT_BUREAU_HOUR</th>\n",
       "      <th>AMT_REQ_CREDIT_BUREAU_DAY</th>\n",
       "      <th>AMT_REQ_CREDIT_BUREAU_WEEK</th>\n",
       "      <th>AMT_REQ_CREDIT_BUREAU_MON</th>\n",
       "      <th>AMT_REQ_CREDIT_BUREAU_QRT</th>\n",
       "      <th>AMT_REQ_CREDIT_BUREAU_YEAR</th>\n",
       "    </tr>\n",
       "  </thead>\n",
       "  <tbody>\n",
       "    <tr>\n",
       "      <th>0</th>\n",
       "      <td>100002</td>\n",
       "      <td>1</td>\n",
       "      <td>Cash loans</td>\n",
       "      <td>M</td>\n",
       "      <td>N</td>\n",
       "      <td>Y</td>\n",
       "      <td>0</td>\n",
       "      <td>202500.0</td>\n",
       "      <td>406597.5</td>\n",
       "      <td>24700.5</td>\n",
       "      <td>...</td>\n",
       "      <td>0</td>\n",
       "      <td>0</td>\n",
       "      <td>0</td>\n",
       "      <td>0</td>\n",
       "      <td>0.0</td>\n",
       "      <td>0.0</td>\n",
       "      <td>0.0</td>\n",
       "      <td>0.0</td>\n",
       "      <td>0.0</td>\n",
       "      <td>1.0</td>\n",
       "    </tr>\n",
       "    <tr>\n",
       "      <th>1</th>\n",
       "      <td>100003</td>\n",
       "      <td>0</td>\n",
       "      <td>Cash loans</td>\n",
       "      <td>F</td>\n",
       "      <td>N</td>\n",
       "      <td>N</td>\n",
       "      <td>0</td>\n",
       "      <td>270000.0</td>\n",
       "      <td>1293502.5</td>\n",
       "      <td>35698.5</td>\n",
       "      <td>...</td>\n",
       "      <td>0</td>\n",
       "      <td>0</td>\n",
       "      <td>0</td>\n",
       "      <td>0</td>\n",
       "      <td>0.0</td>\n",
       "      <td>0.0</td>\n",
       "      <td>0.0</td>\n",
       "      <td>0.0</td>\n",
       "      <td>0.0</td>\n",
       "      <td>0.0</td>\n",
       "    </tr>\n",
       "    <tr>\n",
       "      <th>2</th>\n",
       "      <td>100004</td>\n",
       "      <td>0</td>\n",
       "      <td>Revolving loans</td>\n",
       "      <td>M</td>\n",
       "      <td>Y</td>\n",
       "      <td>Y</td>\n",
       "      <td>0</td>\n",
       "      <td>67500.0</td>\n",
       "      <td>135000.0</td>\n",
       "      <td>6750.0</td>\n",
       "      <td>...</td>\n",
       "      <td>0</td>\n",
       "      <td>0</td>\n",
       "      <td>0</td>\n",
       "      <td>0</td>\n",
       "      <td>0.0</td>\n",
       "      <td>0.0</td>\n",
       "      <td>0.0</td>\n",
       "      <td>0.0</td>\n",
       "      <td>0.0</td>\n",
       "      <td>0.0</td>\n",
       "    </tr>\n",
       "    <tr>\n",
       "      <th>3</th>\n",
       "      <td>100006</td>\n",
       "      <td>0</td>\n",
       "      <td>Cash loans</td>\n",
       "      <td>F</td>\n",
       "      <td>N</td>\n",
       "      <td>Y</td>\n",
       "      <td>0</td>\n",
       "      <td>135000.0</td>\n",
       "      <td>312682.5</td>\n",
       "      <td>29686.5</td>\n",
       "      <td>...</td>\n",
       "      <td>0</td>\n",
       "      <td>0</td>\n",
       "      <td>0</td>\n",
       "      <td>0</td>\n",
       "      <td>NaN</td>\n",
       "      <td>NaN</td>\n",
       "      <td>NaN</td>\n",
       "      <td>NaN</td>\n",
       "      <td>NaN</td>\n",
       "      <td>NaN</td>\n",
       "    </tr>\n",
       "    <tr>\n",
       "      <th>4</th>\n",
       "      <td>100007</td>\n",
       "      <td>0</td>\n",
       "      <td>Cash loans</td>\n",
       "      <td>M</td>\n",
       "      <td>N</td>\n",
       "      <td>Y</td>\n",
       "      <td>0</td>\n",
       "      <td>121500.0</td>\n",
       "      <td>513000.0</td>\n",
       "      <td>21865.5</td>\n",
       "      <td>...</td>\n",
       "      <td>0</td>\n",
       "      <td>0</td>\n",
       "      <td>0</td>\n",
       "      <td>0</td>\n",
       "      <td>0.0</td>\n",
       "      <td>0.0</td>\n",
       "      <td>0.0</td>\n",
       "      <td>0.0</td>\n",
       "      <td>0.0</td>\n",
       "      <td>0.0</td>\n",
       "    </tr>\n",
       "  </tbody>\n",
       "</table>\n",
       "<p>5 rows × 122 columns</p>\n",
       "</div>"
      ],
      "text/plain": [
       "   SK_ID_CURR  TARGET NAME_CONTRACT_TYPE CODE_GENDER FLAG_OWN_CAR  \\\n",
       "0      100002       1         Cash loans           M            N   \n",
       "1      100003       0         Cash loans           F            N   \n",
       "2      100004       0    Revolving loans           M            Y   \n",
       "3      100006       0         Cash loans           F            N   \n",
       "4      100007       0         Cash loans           M            N   \n",
       "\n",
       "  FLAG_OWN_REALTY  CNT_CHILDREN  AMT_INCOME_TOTAL  AMT_CREDIT  AMT_ANNUITY  \\\n",
       "0               Y             0          202500.0    406597.5      24700.5   \n",
       "1               N             0          270000.0   1293502.5      35698.5   \n",
       "2               Y             0           67500.0    135000.0       6750.0   \n",
       "3               Y             0          135000.0    312682.5      29686.5   \n",
       "4               Y             0          121500.0    513000.0      21865.5   \n",
       "\n",
       "   ...  FLAG_DOCUMENT_18 FLAG_DOCUMENT_19 FLAG_DOCUMENT_20 FLAG_DOCUMENT_21  \\\n",
       "0  ...                 0                0                0                0   \n",
       "1  ...                 0                0                0                0   \n",
       "2  ...                 0                0                0                0   \n",
       "3  ...                 0                0                0                0   \n",
       "4  ...                 0                0                0                0   \n",
       "\n",
       "  AMT_REQ_CREDIT_BUREAU_HOUR AMT_REQ_CREDIT_BUREAU_DAY  \\\n",
       "0                        0.0                       0.0   \n",
       "1                        0.0                       0.0   \n",
       "2                        0.0                       0.0   \n",
       "3                        NaN                       NaN   \n",
       "4                        0.0                       0.0   \n",
       "\n",
       "   AMT_REQ_CREDIT_BUREAU_WEEK  AMT_REQ_CREDIT_BUREAU_MON  \\\n",
       "0                         0.0                        0.0   \n",
       "1                         0.0                        0.0   \n",
       "2                         0.0                        0.0   \n",
       "3                         NaN                        NaN   \n",
       "4                         0.0                        0.0   \n",
       "\n",
       "   AMT_REQ_CREDIT_BUREAU_QRT  AMT_REQ_CREDIT_BUREAU_YEAR  \n",
       "0                        0.0                         1.0  \n",
       "1                        0.0                         0.0  \n",
       "2                        0.0                         0.0  \n",
       "3                        NaN                         NaN  \n",
       "4                        0.0                         0.0  \n",
       "\n",
       "[5 rows x 122 columns]"
      ]
     },
     "execution_count": 6,
     "metadata": {},
     "output_type": "execute_result"
    }
   ],
   "source": [
    "data.shape\n",
    "\n",
    "data.head()"
   ]
  },
  {
   "cell_type": "code",
   "execution_count": 7,
   "id": "96814353",
   "metadata": {},
   "outputs": [
    {
     "name": "stdout",
     "output_type": "stream",
     "text": [
      "<class 'pandas.core.frame.DataFrame'>\n",
      "RangeIndex: 307511 entries, 0 to 307510\n",
      "Columns: 122 entries, SK_ID_CURR to AMT_REQ_CREDIT_BUREAU_YEAR\n",
      "dtypes: float64(65), int64(41), object(16)\n",
      "memory usage: 286.2+ MB\n"
     ]
    }
   ],
   "source": [
    "data.info()"
   ]
  },
  {
   "cell_type": "code",
   "execution_count": 8,
   "id": "5cdb6225",
   "metadata": {},
   "outputs": [
    {
     "data": {
      "text/plain": [
       "(307511, 122)"
      ]
     },
     "execution_count": 8,
     "metadata": {},
     "output_type": "execute_result"
    }
   ],
   "source": [
    "data.shape"
   ]
  },
  {
   "cell_type": "code",
   "execution_count": 9,
   "id": "3f72c11e",
   "metadata": {},
   "outputs": [
    {
     "data": {
      "text/plain": [
       "COMMONAREA_MEDI                 69.872297\n",
       "COMMONAREA_AVG                  69.872297\n",
       "COMMONAREA_MODE                 69.872297\n",
       "NONLIVINGAPARTMENTS_MODE        69.432963\n",
       "NONLIVINGAPARTMENTS_AVG         69.432963\n",
       "NONLIVINGAPARTMENTS_MEDI        69.432963\n",
       "FONDKAPREMONT_MODE              68.386172\n",
       "LIVINGAPARTMENTS_MODE           68.354953\n",
       "LIVINGAPARTMENTS_AVG            68.354953\n",
       "LIVINGAPARTMENTS_MEDI           68.354953\n",
       "FLOORSMIN_AVG                   67.848630\n",
       "FLOORSMIN_MODE                  67.848630\n",
       "FLOORSMIN_MEDI                  67.848630\n",
       "YEARS_BUILD_MEDI                66.497784\n",
       "YEARS_BUILD_MODE                66.497784\n",
       "YEARS_BUILD_AVG                 66.497784\n",
       "OWN_CAR_AGE                     65.990810\n",
       "LANDAREA_MEDI                   59.376738\n",
       "LANDAREA_MODE                   59.376738\n",
       "LANDAREA_AVG                    59.376738\n",
       "BASEMENTAREA_MEDI               58.515956\n",
       "BASEMENTAREA_AVG                58.515956\n",
       "BASEMENTAREA_MODE               58.515956\n",
       "EXT_SOURCE_1                    56.381073\n",
       "NONLIVINGAREA_MODE              55.179164\n",
       "NONLIVINGAREA_AVG               55.179164\n",
       "NONLIVINGAREA_MEDI              55.179164\n",
       "ELEVATORS_MEDI                  53.295980\n",
       "ELEVATORS_AVG                   53.295980\n",
       "ELEVATORS_MODE                  53.295980\n",
       "WALLSMATERIAL_MODE              50.840783\n",
       "APARTMENTS_MEDI                 50.749729\n",
       "APARTMENTS_AVG                  50.749729\n",
       "APARTMENTS_MODE                 50.749729\n",
       "ENTRANCES_MEDI                  50.348768\n",
       "ENTRANCES_AVG                   50.348768\n",
       "ENTRANCES_MODE                  50.348768\n",
       "LIVINGAREA_AVG                  50.193326\n",
       "LIVINGAREA_MODE                 50.193326\n",
       "LIVINGAREA_MEDI                 50.193326\n",
       "HOUSETYPE_MODE                  50.176091\n",
       "FLOORSMAX_MODE                  49.760822\n",
       "FLOORSMAX_MEDI                  49.760822\n",
       "FLOORSMAX_AVG                   49.760822\n",
       "YEARS_BEGINEXPLUATATION_MODE    48.781019\n",
       "YEARS_BEGINEXPLUATATION_MEDI    48.781019\n",
       "YEARS_BEGINEXPLUATATION_AVG     48.781019\n",
       "TOTALAREA_MODE                  48.268517\n",
       "EMERGENCYSTATE_MODE             47.398304\n",
       "OCCUPATION_TYPE                 31.345545\n",
       "dtype: float64"
      ]
     },
     "execution_count": 9,
     "metadata": {},
     "output_type": "execute_result"
    }
   ],
   "source": [
    "(data.isnull().mean()*100).sort_values(ascending=False).head(n=50)"
   ]
  },
  {
   "cell_type": "code",
   "execution_count": 10,
   "id": "55f46747",
   "metadata": {},
   "outputs": [],
   "source": [
    "data_new = data\n",
    "cols = data_new.columns\n",
    "\n",
    "for i in range(0,len(cols)):\n",
    "    if cols[i].find(\"_MEDI\")!=-1 or cols[i].find(\"_AVG\")!=-1 or cols[i].find(\"_MODE\")!=-1:\n",
    "        data_new = data_new.drop([str(cols[i])],axis=1)"
   ]
  },
  {
   "cell_type": "code",
   "execution_count": 11,
   "id": "cd4596eb",
   "metadata": {},
   "outputs": [
    {
     "name": "stdout",
     "output_type": "stream",
     "text": [
      "<class 'pandas.core.frame.DataFrame'>\n",
      "RangeIndex: 307511 entries, 0 to 307510\n",
      "Data columns (total 75 columns):\n",
      " #   Column                       Non-Null Count   Dtype  \n",
      "---  ------                       --------------   -----  \n",
      " 0   SK_ID_CURR                   307511 non-null  int64  \n",
      " 1   TARGET                       307511 non-null  int64  \n",
      " 2   NAME_CONTRACT_TYPE           307511 non-null  object \n",
      " 3   CODE_GENDER                  307511 non-null  object \n",
      " 4   FLAG_OWN_CAR                 307511 non-null  object \n",
      " 5   FLAG_OWN_REALTY              307511 non-null  object \n",
      " 6   CNT_CHILDREN                 307511 non-null  int64  \n",
      " 7   AMT_INCOME_TOTAL             307511 non-null  float64\n",
      " 8   AMT_CREDIT                   307511 non-null  float64\n",
      " 9   AMT_ANNUITY                  307499 non-null  float64\n",
      " 10  AMT_GOODS_PRICE              307233 non-null  float64\n",
      " 11  NAME_TYPE_SUITE              306219 non-null  object \n",
      " 12  NAME_INCOME_TYPE             307511 non-null  object \n",
      " 13  NAME_EDUCATION_TYPE          307511 non-null  object \n",
      " 14  NAME_FAMILY_STATUS           307511 non-null  object \n",
      " 15  NAME_HOUSING_TYPE            307511 non-null  object \n",
      " 16  REGION_POPULATION_RELATIVE   307511 non-null  float64\n",
      " 17  DAYS_BIRTH                   307511 non-null  int64  \n",
      " 18  DAYS_EMPLOYED                307511 non-null  int64  \n",
      " 19  DAYS_REGISTRATION            307511 non-null  float64\n",
      " 20  DAYS_ID_PUBLISH              307511 non-null  int64  \n",
      " 21  OWN_CAR_AGE                  104582 non-null  float64\n",
      " 22  FLAG_MOBIL                   307511 non-null  int64  \n",
      " 23  FLAG_EMP_PHONE               307511 non-null  int64  \n",
      " 24  FLAG_WORK_PHONE              307511 non-null  int64  \n",
      " 25  FLAG_CONT_MOBILE             307511 non-null  int64  \n",
      " 26  FLAG_PHONE                   307511 non-null  int64  \n",
      " 27  FLAG_EMAIL                   307511 non-null  int64  \n",
      " 28  OCCUPATION_TYPE              211120 non-null  object \n",
      " 29  CNT_FAM_MEMBERS              307509 non-null  float64\n",
      " 30  REGION_RATING_CLIENT         307511 non-null  int64  \n",
      " 31  REGION_RATING_CLIENT_W_CITY  307511 non-null  int64  \n",
      " 32  WEEKDAY_APPR_PROCESS_START   307511 non-null  object \n",
      " 33  HOUR_APPR_PROCESS_START      307511 non-null  int64  \n",
      " 34  REG_REGION_NOT_LIVE_REGION   307511 non-null  int64  \n",
      " 35  REG_REGION_NOT_WORK_REGION   307511 non-null  int64  \n",
      " 36  LIVE_REGION_NOT_WORK_REGION  307511 non-null  int64  \n",
      " 37  REG_CITY_NOT_LIVE_CITY       307511 non-null  int64  \n",
      " 38  REG_CITY_NOT_WORK_CITY       307511 non-null  int64  \n",
      " 39  LIVE_CITY_NOT_WORK_CITY      307511 non-null  int64  \n",
      " 40  ORGANIZATION_TYPE            307511 non-null  object \n",
      " 41  EXT_SOURCE_1                 134133 non-null  float64\n",
      " 42  EXT_SOURCE_2                 306851 non-null  float64\n",
      " 43  EXT_SOURCE_3                 246546 non-null  float64\n",
      " 44  OBS_30_CNT_SOCIAL_CIRCLE     306490 non-null  float64\n",
      " 45  DEF_30_CNT_SOCIAL_CIRCLE     306490 non-null  float64\n",
      " 46  OBS_60_CNT_SOCIAL_CIRCLE     306490 non-null  float64\n",
      " 47  DEF_60_CNT_SOCIAL_CIRCLE     306490 non-null  float64\n",
      " 48  DAYS_LAST_PHONE_CHANGE       307510 non-null  float64\n",
      " 49  FLAG_DOCUMENT_2              307511 non-null  int64  \n",
      " 50  FLAG_DOCUMENT_3              307511 non-null  int64  \n",
      " 51  FLAG_DOCUMENT_4              307511 non-null  int64  \n",
      " 52  FLAG_DOCUMENT_5              307511 non-null  int64  \n",
      " 53  FLAG_DOCUMENT_6              307511 non-null  int64  \n",
      " 54  FLAG_DOCUMENT_7              307511 non-null  int64  \n",
      " 55  FLAG_DOCUMENT_8              307511 non-null  int64  \n",
      " 56  FLAG_DOCUMENT_9              307511 non-null  int64  \n",
      " 57  FLAG_DOCUMENT_10             307511 non-null  int64  \n",
      " 58  FLAG_DOCUMENT_11             307511 non-null  int64  \n",
      " 59  FLAG_DOCUMENT_12             307511 non-null  int64  \n",
      " 60  FLAG_DOCUMENT_13             307511 non-null  int64  \n",
      " 61  FLAG_DOCUMENT_14             307511 non-null  int64  \n",
      " 62  FLAG_DOCUMENT_15             307511 non-null  int64  \n",
      " 63  FLAG_DOCUMENT_16             307511 non-null  int64  \n",
      " 64  FLAG_DOCUMENT_17             307511 non-null  int64  \n",
      " 65  FLAG_DOCUMENT_18             307511 non-null  int64  \n",
      " 66  FLAG_DOCUMENT_19             307511 non-null  int64  \n",
      " 67  FLAG_DOCUMENT_20             307511 non-null  int64  \n",
      " 68  FLAG_DOCUMENT_21             307511 non-null  int64  \n",
      " 69  AMT_REQ_CREDIT_BUREAU_HOUR   265992 non-null  float64\n",
      " 70  AMT_REQ_CREDIT_BUREAU_DAY    265992 non-null  float64\n",
      " 71  AMT_REQ_CREDIT_BUREAU_WEEK   265992 non-null  float64\n",
      " 72  AMT_REQ_CREDIT_BUREAU_MON    265992 non-null  float64\n",
      " 73  AMT_REQ_CREDIT_BUREAU_QRT    265992 non-null  float64\n",
      " 74  AMT_REQ_CREDIT_BUREAU_YEAR   265992 non-null  float64\n",
      "dtypes: float64(22), int64(41), object(12)\n",
      "memory usage: 176.0+ MB\n"
     ]
    }
   ],
   "source": [
    "data_new.info()"
   ]
  },
  {
   "cell_type": "code",
   "execution_count": 12,
   "id": "7d4d2fa0",
   "metadata": {},
   "outputs": [],
   "source": [
    "cols = data_new.columns\n",
    "\n",
    "for i in range(0,len(cols)):\n",
    "    if cols[i].find(\"FLAG_DOCUMENT_\")!=-1:\n",
    "        data_new = data_new.drop([str(cols[i])],axis=1)"
   ]
  },
  {
   "cell_type": "code",
   "execution_count": 13,
   "id": "bb79e3bd",
   "metadata": {},
   "outputs": [
    {
     "name": "stdout",
     "output_type": "stream",
     "text": [
      "<class 'pandas.core.frame.DataFrame'>\n",
      "RangeIndex: 307511 entries, 0 to 307510\n",
      "Data columns (total 55 columns):\n",
      " #   Column                       Non-Null Count   Dtype  \n",
      "---  ------                       --------------   -----  \n",
      " 0   SK_ID_CURR                   307511 non-null  int64  \n",
      " 1   TARGET                       307511 non-null  int64  \n",
      " 2   NAME_CONTRACT_TYPE           307511 non-null  object \n",
      " 3   CODE_GENDER                  307511 non-null  object \n",
      " 4   FLAG_OWN_CAR                 307511 non-null  object \n",
      " 5   FLAG_OWN_REALTY              307511 non-null  object \n",
      " 6   CNT_CHILDREN                 307511 non-null  int64  \n",
      " 7   AMT_INCOME_TOTAL             307511 non-null  float64\n",
      " 8   AMT_CREDIT                   307511 non-null  float64\n",
      " 9   AMT_ANNUITY                  307499 non-null  float64\n",
      " 10  AMT_GOODS_PRICE              307233 non-null  float64\n",
      " 11  NAME_TYPE_SUITE              306219 non-null  object \n",
      " 12  NAME_INCOME_TYPE             307511 non-null  object \n",
      " 13  NAME_EDUCATION_TYPE          307511 non-null  object \n",
      " 14  NAME_FAMILY_STATUS           307511 non-null  object \n",
      " 15  NAME_HOUSING_TYPE            307511 non-null  object \n",
      " 16  REGION_POPULATION_RELATIVE   307511 non-null  float64\n",
      " 17  DAYS_BIRTH                   307511 non-null  int64  \n",
      " 18  DAYS_EMPLOYED                307511 non-null  int64  \n",
      " 19  DAYS_REGISTRATION            307511 non-null  float64\n",
      " 20  DAYS_ID_PUBLISH              307511 non-null  int64  \n",
      " 21  OWN_CAR_AGE                  104582 non-null  float64\n",
      " 22  FLAG_MOBIL                   307511 non-null  int64  \n",
      " 23  FLAG_EMP_PHONE               307511 non-null  int64  \n",
      " 24  FLAG_WORK_PHONE              307511 non-null  int64  \n",
      " 25  FLAG_CONT_MOBILE             307511 non-null  int64  \n",
      " 26  FLAG_PHONE                   307511 non-null  int64  \n",
      " 27  FLAG_EMAIL                   307511 non-null  int64  \n",
      " 28  OCCUPATION_TYPE              211120 non-null  object \n",
      " 29  CNT_FAM_MEMBERS              307509 non-null  float64\n",
      " 30  REGION_RATING_CLIENT         307511 non-null  int64  \n",
      " 31  REGION_RATING_CLIENT_W_CITY  307511 non-null  int64  \n",
      " 32  WEEKDAY_APPR_PROCESS_START   307511 non-null  object \n",
      " 33  HOUR_APPR_PROCESS_START      307511 non-null  int64  \n",
      " 34  REG_REGION_NOT_LIVE_REGION   307511 non-null  int64  \n",
      " 35  REG_REGION_NOT_WORK_REGION   307511 non-null  int64  \n",
      " 36  LIVE_REGION_NOT_WORK_REGION  307511 non-null  int64  \n",
      " 37  REG_CITY_NOT_LIVE_CITY       307511 non-null  int64  \n",
      " 38  REG_CITY_NOT_WORK_CITY       307511 non-null  int64  \n",
      " 39  LIVE_CITY_NOT_WORK_CITY      307511 non-null  int64  \n",
      " 40  ORGANIZATION_TYPE            307511 non-null  object \n",
      " 41  EXT_SOURCE_1                 134133 non-null  float64\n",
      " 42  EXT_SOURCE_2                 306851 non-null  float64\n",
      " 43  EXT_SOURCE_3                 246546 non-null  float64\n",
      " 44  OBS_30_CNT_SOCIAL_CIRCLE     306490 non-null  float64\n",
      " 45  DEF_30_CNT_SOCIAL_CIRCLE     306490 non-null  float64\n",
      " 46  OBS_60_CNT_SOCIAL_CIRCLE     306490 non-null  float64\n",
      " 47  DEF_60_CNT_SOCIAL_CIRCLE     306490 non-null  float64\n",
      " 48  DAYS_LAST_PHONE_CHANGE       307510 non-null  float64\n",
      " 49  AMT_REQ_CREDIT_BUREAU_HOUR   265992 non-null  float64\n",
      " 50  AMT_REQ_CREDIT_BUREAU_DAY    265992 non-null  float64\n",
      " 51  AMT_REQ_CREDIT_BUREAU_WEEK   265992 non-null  float64\n",
      " 52  AMT_REQ_CREDIT_BUREAU_MON    265992 non-null  float64\n",
      " 53  AMT_REQ_CREDIT_BUREAU_QRT    265992 non-null  float64\n",
      " 54  AMT_REQ_CREDIT_BUREAU_YEAR   265992 non-null  float64\n",
      "dtypes: float64(22), int64(21), object(12)\n",
      "memory usage: 129.0+ MB\n"
     ]
    }
   ],
   "source": [
    "data_new.info()"
   ]
  },
  {
   "cell_type": "code",
   "execution_count": 14,
   "id": "8657c259",
   "metadata": {},
   "outputs": [],
   "source": [
    "data_new = data_new.drop([\"FLAG_MOBIL\",\"FLAG_EMP_PHONE\",\"FLAG_WORK_PHONE\",\"FLAG_CONT_MOBILE\",\"FLAG_PHONE\",\"FLAG_EMAIL\"],axis=1)"
   ]
  },
  {
   "cell_type": "code",
   "execution_count": 15,
   "id": "543c3665",
   "metadata": {},
   "outputs": [
    {
     "name": "stdout",
     "output_type": "stream",
     "text": [
      "<class 'pandas.core.frame.DataFrame'>\n",
      "RangeIndex: 307511 entries, 0 to 307510\n",
      "Data columns (total 49 columns):\n",
      " #   Column                       Non-Null Count   Dtype  \n",
      "---  ------                       --------------   -----  \n",
      " 0   SK_ID_CURR                   307511 non-null  int64  \n",
      " 1   TARGET                       307511 non-null  int64  \n",
      " 2   NAME_CONTRACT_TYPE           307511 non-null  object \n",
      " 3   CODE_GENDER                  307511 non-null  object \n",
      " 4   FLAG_OWN_CAR                 307511 non-null  object \n",
      " 5   FLAG_OWN_REALTY              307511 non-null  object \n",
      " 6   CNT_CHILDREN                 307511 non-null  int64  \n",
      " 7   AMT_INCOME_TOTAL             307511 non-null  float64\n",
      " 8   AMT_CREDIT                   307511 non-null  float64\n",
      " 9   AMT_ANNUITY                  307499 non-null  float64\n",
      " 10  AMT_GOODS_PRICE              307233 non-null  float64\n",
      " 11  NAME_TYPE_SUITE              306219 non-null  object \n",
      " 12  NAME_INCOME_TYPE             307511 non-null  object \n",
      " 13  NAME_EDUCATION_TYPE          307511 non-null  object \n",
      " 14  NAME_FAMILY_STATUS           307511 non-null  object \n",
      " 15  NAME_HOUSING_TYPE            307511 non-null  object \n",
      " 16  REGION_POPULATION_RELATIVE   307511 non-null  float64\n",
      " 17  DAYS_BIRTH                   307511 non-null  int64  \n",
      " 18  DAYS_EMPLOYED                307511 non-null  int64  \n",
      " 19  DAYS_REGISTRATION            307511 non-null  float64\n",
      " 20  DAYS_ID_PUBLISH              307511 non-null  int64  \n",
      " 21  OWN_CAR_AGE                  104582 non-null  float64\n",
      " 22  OCCUPATION_TYPE              211120 non-null  object \n",
      " 23  CNT_FAM_MEMBERS              307509 non-null  float64\n",
      " 24  REGION_RATING_CLIENT         307511 non-null  int64  \n",
      " 25  REGION_RATING_CLIENT_W_CITY  307511 non-null  int64  \n",
      " 26  WEEKDAY_APPR_PROCESS_START   307511 non-null  object \n",
      " 27  HOUR_APPR_PROCESS_START      307511 non-null  int64  \n",
      " 28  REG_REGION_NOT_LIVE_REGION   307511 non-null  int64  \n",
      " 29  REG_REGION_NOT_WORK_REGION   307511 non-null  int64  \n",
      " 30  LIVE_REGION_NOT_WORK_REGION  307511 non-null  int64  \n",
      " 31  REG_CITY_NOT_LIVE_CITY       307511 non-null  int64  \n",
      " 32  REG_CITY_NOT_WORK_CITY       307511 non-null  int64  \n",
      " 33  LIVE_CITY_NOT_WORK_CITY      307511 non-null  int64  \n",
      " 34  ORGANIZATION_TYPE            307511 non-null  object \n",
      " 35  EXT_SOURCE_1                 134133 non-null  float64\n",
      " 36  EXT_SOURCE_2                 306851 non-null  float64\n",
      " 37  EXT_SOURCE_3                 246546 non-null  float64\n",
      " 38  OBS_30_CNT_SOCIAL_CIRCLE     306490 non-null  float64\n",
      " 39  DEF_30_CNT_SOCIAL_CIRCLE     306490 non-null  float64\n",
      " 40  OBS_60_CNT_SOCIAL_CIRCLE     306490 non-null  float64\n",
      " 41  DEF_60_CNT_SOCIAL_CIRCLE     306490 non-null  float64\n",
      " 42  DAYS_LAST_PHONE_CHANGE       307510 non-null  float64\n",
      " 43  AMT_REQ_CREDIT_BUREAU_HOUR   265992 non-null  float64\n",
      " 44  AMT_REQ_CREDIT_BUREAU_DAY    265992 non-null  float64\n",
      " 45  AMT_REQ_CREDIT_BUREAU_WEEK   265992 non-null  float64\n",
      " 46  AMT_REQ_CREDIT_BUREAU_MON    265992 non-null  float64\n",
      " 47  AMT_REQ_CREDIT_BUREAU_QRT    265992 non-null  float64\n",
      " 48  AMT_REQ_CREDIT_BUREAU_YEAR   265992 non-null  float64\n",
      "dtypes: float64(22), int64(15), object(12)\n",
      "memory usage: 115.0+ MB\n"
     ]
    }
   ],
   "source": [
    "data_new.info()"
   ]
  },
  {
   "cell_type": "code",
   "execution_count": 16,
   "id": "883c7729",
   "metadata": {},
   "outputs": [
    {
     "data": {
      "text/plain": [
       "OWN_CAR_AGE                    65.990810\n",
       "EXT_SOURCE_1                   56.381073\n",
       "OCCUPATION_TYPE                31.345545\n",
       "EXT_SOURCE_3                   19.825307\n",
       "AMT_REQ_CREDIT_BUREAU_YEAR     13.501631\n",
       "AMT_REQ_CREDIT_BUREAU_QRT      13.501631\n",
       "AMT_REQ_CREDIT_BUREAU_MON      13.501631\n",
       "AMT_REQ_CREDIT_BUREAU_WEEK     13.501631\n",
       "AMT_REQ_CREDIT_BUREAU_DAY      13.501631\n",
       "AMT_REQ_CREDIT_BUREAU_HOUR     13.501631\n",
       "NAME_TYPE_SUITE                 0.420148\n",
       "OBS_30_CNT_SOCIAL_CIRCLE        0.332021\n",
       "DEF_30_CNT_SOCIAL_CIRCLE        0.332021\n",
       "OBS_60_CNT_SOCIAL_CIRCLE        0.332021\n",
       "DEF_60_CNT_SOCIAL_CIRCLE        0.332021\n",
       "EXT_SOURCE_2                    0.214626\n",
       "AMT_GOODS_PRICE                 0.090403\n",
       "AMT_ANNUITY                     0.003902\n",
       "CNT_FAM_MEMBERS                 0.000650\n",
       "DAYS_LAST_PHONE_CHANGE          0.000325\n",
       "REG_REGION_NOT_LIVE_REGION      0.000000\n",
       "ORGANIZATION_TYPE               0.000000\n",
       "LIVE_CITY_NOT_WORK_CITY         0.000000\n",
       "REG_CITY_NOT_WORK_CITY          0.000000\n",
       "REG_CITY_NOT_LIVE_CITY          0.000000\n",
       "LIVE_REGION_NOT_WORK_REGION     0.000000\n",
       "REG_REGION_NOT_WORK_REGION      0.000000\n",
       "SK_ID_CURR                      0.000000\n",
       "HOUR_APPR_PROCESS_START         0.000000\n",
       "NAME_EDUCATION_TYPE             0.000000\n",
       "NAME_CONTRACT_TYPE              0.000000\n",
       "CODE_GENDER                     0.000000\n",
       "FLAG_OWN_CAR                    0.000000\n",
       "FLAG_OWN_REALTY                 0.000000\n",
       "CNT_CHILDREN                    0.000000\n",
       "AMT_INCOME_TOTAL                0.000000\n",
       "AMT_CREDIT                      0.000000\n",
       "NAME_INCOME_TYPE                0.000000\n",
       "NAME_FAMILY_STATUS              0.000000\n",
       "WEEKDAY_APPR_PROCESS_START      0.000000\n",
       "NAME_HOUSING_TYPE               0.000000\n",
       "REGION_POPULATION_RELATIVE      0.000000\n",
       "DAYS_BIRTH                      0.000000\n",
       "DAYS_EMPLOYED                   0.000000\n",
       "DAYS_REGISTRATION               0.000000\n",
       "DAYS_ID_PUBLISH                 0.000000\n",
       "TARGET                          0.000000\n",
       "REGION_RATING_CLIENT_W_CITY     0.000000\n",
       "REGION_RATING_CLIENT            0.000000\n",
       "dtype: float64"
      ]
     },
     "execution_count": 16,
     "metadata": {},
     "output_type": "execute_result"
    }
   ],
   "source": [
    "(data_new.isnull().mean()*100).sort_values(ascending=False).head(n=50)"
   ]
  },
  {
   "cell_type": "code",
   "execution_count": 17,
   "id": "4c3e65a8",
   "metadata": {},
   "outputs": [],
   "source": [
    "data_new = data_new.drop([\"OWN_CAR_AGE\"],axis=1)"
   ]
  },
  {
   "cell_type": "code",
   "execution_count": 18,
   "id": "d85711db",
   "metadata": {},
   "outputs": [
    {
     "data": {
      "text/plain": [
       "EXT_SOURCE_1                  56.381073\n",
       "OCCUPATION_TYPE               31.345545\n",
       "EXT_SOURCE_3                  19.825307\n",
       "AMT_REQ_CREDIT_BUREAU_YEAR    13.501631\n",
       "AMT_REQ_CREDIT_BUREAU_QRT     13.501631\n",
       "AMT_REQ_CREDIT_BUREAU_MON     13.501631\n",
       "AMT_REQ_CREDIT_BUREAU_WEEK    13.501631\n",
       "AMT_REQ_CREDIT_BUREAU_DAY     13.501631\n",
       "AMT_REQ_CREDIT_BUREAU_HOUR    13.501631\n",
       "NAME_TYPE_SUITE                0.420148\n",
       "dtype: float64"
      ]
     },
     "execution_count": 18,
     "metadata": {},
     "output_type": "execute_result"
    }
   ],
   "source": [
    "(data_new.isnull().mean()*100).sort_values(ascending=False).head(n=10)"
   ]
  },
  {
   "cell_type": "code",
   "execution_count": 19,
   "id": "c8edbd38",
   "metadata": {},
   "outputs": [],
   "source": [
    "data_new.loc[:,\"AMT_REQ_CREDIT_BUREAU_YEAR\"] = data_new.fillna(data_new[\"AMT_REQ_CREDIT_BUREAU_YEAR\"].median())\n",
    "data_new.loc[:,\"AMT_REQ_CREDIT_BUREAU_QRT\"] = data_new.fillna(data_new[\"AMT_REQ_CREDIT_BUREAU_QRT\"].median())\n",
    "data_new.loc[:,\"AMT_REQ_CREDIT_BUREAU_HOUR\"] = data_new.fillna(data_new[\"AMT_REQ_CREDIT_BUREAU_HOUR\"].median())\n",
    "data_new.loc[:,\"AMT_REQ_CREDIT_BUREAU_MON\"] = data_new.fillna(data_new[\"AMT_REQ_CREDIT_BUREAU_MON\"].median())\n",
    "data_new.loc[:,\"AMT_REQ_CREDIT_BUREAU_WEEK\"] = data_new.fillna(data_new[\"AMT_REQ_CREDIT_BUREAU_WEEK\"].median())\n",
    "data_new.loc[:,\"AMT_REQ_CREDIT_BUREAU_DAY\"] = data_new.fillna(data_new[\"AMT_REQ_CREDIT_BUREAU_DAY\"].median())"
   ]
  },
  {
   "cell_type": "code",
   "execution_count": 20,
   "id": "70a3faf1",
   "metadata": {},
   "outputs": [],
   "source": [
    "data_new.loc[:,\"EXT_SOURCE_1\"] = data_new.fillna(data_new[\"EXT_SOURCE_1\"].mean())\n",
    "data_new.loc[:,\"EXT_SOURCE_3\"] = data_new.fillna(data_new[\"EXT_SOURCE_3\"].mean())"
   ]
  },
  {
   "cell_type": "code",
   "execution_count": 21,
   "id": "be65a189",
   "metadata": {},
   "outputs": [
    {
     "data": {
      "text/plain": [
       "Business Entity Type 3    67992\n",
       "Pensioners                55374\n",
       "Self-employed             38412\n",
       "Other                     16683\n",
       "Medicine                  11193\n",
       "Business Entity Type 2    10553\n",
       "Government                10404\n",
       "School                     8893\n",
       "Trade: type 7              7831\n",
       "Kindergarten               6880\n",
       "Construction               6721\n",
       "Business Entity Type 1     5984\n",
       "Transport: type 4          5398\n",
       "Trade: type 3              3492\n",
       "Industry: type 9           3368\n",
       "Industry: type 3           3278\n",
       "Security                   3247\n",
       "Housing                    2958\n",
       "Industry: type 11          2704\n",
       "Military                   2634\n",
       "Bank                       2507\n",
       "Agriculture                2454\n",
       "Police                     2341\n",
       "Transport: type 2          2204\n",
       "Postal                     2157\n",
       "Security Ministries        1974\n",
       "Trade: type 2              1900\n",
       "Restaurant                 1811\n",
       "Services                   1575\n",
       "University                 1327\n",
       "Industry: type 7           1307\n",
       "Transport: type 3          1187\n",
       "Industry: type 1           1039\n",
       "Hotel                       966\n",
       "Electricity                 950\n",
       "Industry: type 4            877\n",
       "Trade: type 6               631\n",
       "Industry: type 5            599\n",
       "Insurance                   597\n",
       "Telecom                     577\n",
       "Emergency                   560\n",
       "Industry: type 2            458\n",
       "Advertising                 429\n",
       "Realtor                     396\n",
       "Culture                     379\n",
       "Industry: type 12           369\n",
       "Trade: type 1               348\n",
       "Mobile                      317\n",
       "Legal Services              305\n",
       "Cleaning                    260\n",
       "Transport: type 1           201\n",
       "Industry: type 6            112\n",
       "Industry: type 10           109\n",
       "Religion                     85\n",
       "Industry: type 13            67\n",
       "Trade: type 4                64\n",
       "Trade: type 5                49\n",
       "Industry: type 8             24\n",
       "Name: ORGANIZATION_TYPE, dtype: int64"
      ]
     },
     "execution_count": 21,
     "metadata": {},
     "output_type": "execute_result"
    }
   ],
   "source": [
    "#data[(data[\"ORGANIZATION_TYPE\"]==\"XNA\")][\"OCCUPATION_TYPE\"].value_counts()\n",
    "data_new.loc[data_new[\"ORGANIZATION_TYPE\"]==\"XNA\",\"ORGANIZATION_TYPE\"] = data_new.loc[data_new[\"ORGANIZATION_TYPE\"]==\"XNA\",\"ORGANIZATION_TYPE\"].replace(\"XNA\",\"Pensioners\")\n",
    "\n",
    "data_new[\"ORGANIZATION_TYPE\"].value_counts()"
   ]
  },
  {
   "cell_type": "code",
   "execution_count": 22,
   "id": "e16e0ce8",
   "metadata": {},
   "outputs": [],
   "source": [
    "data_new.loc[data_new[\"OCCUPATION_TYPE\"].isnull()==True,\"OCCUPATION_TYPE\"] = data_new.loc[data_new[\"OCCUPATION_TYPE\"].isnull()==True,\"OCCUPATION_TYPE\"].fillna(data[\"ORGANIZATION_TYPE\"].mode()[0])"
   ]
  },
  {
   "cell_type": "code",
   "execution_count": 31,
   "id": "bcb22192",
   "metadata": {},
   "outputs": [],
   "source": [
    "data_new.loc[:,\"NAME_TYPE_SUITE\"] = data_new.loc[:,\"NAME_TYPE_SUITE\"].fillna(data_new[\"NAME_TYPE_SUITE\"].mode()[0])\n",
    "data_new.loc[:,\"DEF_30_CNT_SOCIAL_CIRCLE\"] = data_new.loc[:,\"DEF_30_CNT_SOCIAL_CIRCLE\"].fillna(data_new[\"DEF_30_CNT_SOCIAL_CIRCLE\"].mean())\n",
    "data_new.loc[:,\"DEF_60_CNT_SOCIAL_CIRCLE\"] = data_new.loc[:,\"DEF_60_CNT_SOCIAL_CIRCLE\"].fillna(data_new[\"DEF_60_CNT_SOCIAL_CIRCLE\"].mean())\n",
    "data_new.loc[:,\"OBS_60_CNT_SOCIAL_CIRCLE\"] = data_new.loc[:,\"OBS_60_CNT_SOCIAL_CIRCLE\"].fillna(data_new[\"OBS_60_CNT_SOCIAL_CIRCLE\"].mean())\n",
    "data_new.loc[:,\"OBS_30_CNT_SOCIAL_CIRCLE\"] = data_new.loc[:,\"OBS_30_CNT_SOCIAL_CIRCLE\"].fillna(data_new[\"OBS_30_CNT_SOCIAL_CIRCLE\"].mean())\n"
   ]
  },
  {
   "cell_type": "code",
   "execution_count": 33,
   "id": "0db38c70",
   "metadata": {},
   "outputs": [],
   "source": [
    "data_new.loc[:,\"EXT_SOURCE_2\"] = data_new.loc[:,\"EXT_SOURCE_2\"].fillna(data_new[\"EXT_SOURCE_2\"].mean())\n",
    "data_new.loc[:,\"AMT_GOODS_PRICE\"] = data_new.loc[:,\"AMT_GOODS_PRICE\"].fillna(data_new[\"AMT_GOODS_PRICE\"].mean())\n",
    "data_new.loc[:,\"AMT_ANNUITY\"] = data_new.loc[:,\"AMT_ANNUITY\"].fillna(data_new[\"AMT_ANNUITY\"].mean())\n",
    "data_new.loc[:,\"CNT_FAM_MEMBERS\"] = data_new.loc[:,\"CNT_FAM_MEMBERS\"].fillna(data_new[\"CNT_FAM_MEMBERS\"].mode()[0])\n",
    "data_new.loc[:,\"DAYS_LAST_PHONE_CHANGE\"] = data_new.loc[:,\"DAYS_LAST_PHONE_CHANGE\"].fillna(data_new[\"DAYS_LAST_PHONE_CHANGE\"].mean())"
   ]
  },
  {
   "cell_type": "code",
   "execution_count": 34,
   "id": "c10c671a",
   "metadata": {},
   "outputs": [
    {
     "data": {
      "text/plain": [
       "SK_ID_CURR                     0.0\n",
       "TARGET                         0.0\n",
       "HOUR_APPR_PROCESS_START        0.0\n",
       "REG_REGION_NOT_LIVE_REGION     0.0\n",
       "REG_REGION_NOT_WORK_REGION     0.0\n",
       "LIVE_REGION_NOT_WORK_REGION    0.0\n",
       "REG_CITY_NOT_LIVE_CITY         0.0\n",
       "REG_CITY_NOT_WORK_CITY         0.0\n",
       "LIVE_CITY_NOT_WORK_CITY        0.0\n",
       "ORGANIZATION_TYPE              0.0\n",
       "EXT_SOURCE_1                   0.0\n",
       "dtype: float64"
      ]
     },
     "execution_count": 34,
     "metadata": {},
     "output_type": "execute_result"
    }
   ],
   "source": [
    "((data_new.isnull().mean()*100).sort_values(ascending=False).head(n=11))"
   ]
  },
  {
   "cell_type": "code",
   "execution_count": 44,
   "id": "834c5849",
   "metadata": {},
   "outputs": [],
   "source": [
    "laben = LabelEncoder()\n",
    "cols1 = data_new.columns\n",
    "for i in range(0,len(cols1)):\n",
    "    if data_new[str(cols1[i])].dtypes==object:\n",
    "        data_new[str(cols1[i])] = laben.fit_transform(data[str(cols1[i])])\n"
   ]
  },
  {
   "cell_type": "code",
   "execution_count": 46,
   "id": "f8660a0a",
   "metadata": {},
   "outputs": [
    {
     "name": "stdout",
     "output_type": "stream",
     "text": [
      "<class 'pandas.core.frame.DataFrame'>\n",
      "RangeIndex: 307511 entries, 0 to 307510\n",
      "Data columns (total 48 columns):\n",
      " #   Column                       Non-Null Count   Dtype  \n",
      "---  ------                       --------------   -----  \n",
      " 0   SK_ID_CURR                   307511 non-null  int64  \n",
      " 1   TARGET                       307511 non-null  int64  \n",
      " 2   NAME_CONTRACT_TYPE           307511 non-null  int32  \n",
      " 3   CODE_GENDER                  307511 non-null  int32  \n",
      " 4   FLAG_OWN_CAR                 307511 non-null  int32  \n",
      " 5   FLAG_OWN_REALTY              307511 non-null  int32  \n",
      " 6   CNT_CHILDREN                 307511 non-null  int64  \n",
      " 7   AMT_INCOME_TOTAL             307511 non-null  float64\n",
      " 8   AMT_CREDIT                   307511 non-null  float64\n",
      " 9   AMT_ANNUITY                  307511 non-null  float64\n",
      " 10  AMT_GOODS_PRICE              307511 non-null  float64\n",
      " 11  NAME_TYPE_SUITE              307511 non-null  int32  \n",
      " 12  NAME_INCOME_TYPE             307511 non-null  int32  \n",
      " 13  NAME_EDUCATION_TYPE          307511 non-null  int32  \n",
      " 14  NAME_FAMILY_STATUS           307511 non-null  int32  \n",
      " 15  NAME_HOUSING_TYPE            307511 non-null  int32  \n",
      " 16  REGION_POPULATION_RELATIVE   307511 non-null  float64\n",
      " 17  DAYS_BIRTH                   307511 non-null  int64  \n",
      " 18  DAYS_EMPLOYED                307511 non-null  int64  \n",
      " 19  DAYS_REGISTRATION            307511 non-null  float64\n",
      " 20  DAYS_ID_PUBLISH              307511 non-null  int64  \n",
      " 21  OCCUPATION_TYPE              307511 non-null  int32  \n",
      " 22  CNT_FAM_MEMBERS              307511 non-null  float64\n",
      " 23  REGION_RATING_CLIENT         307511 non-null  int64  \n",
      " 24  REGION_RATING_CLIENT_W_CITY  307511 non-null  int64  \n",
      " 25  WEEKDAY_APPR_PROCESS_START   307511 non-null  int32  \n",
      " 26  HOUR_APPR_PROCESS_START      307511 non-null  int64  \n",
      " 27  REG_REGION_NOT_LIVE_REGION   307511 non-null  int64  \n",
      " 28  REG_REGION_NOT_WORK_REGION   307511 non-null  int64  \n",
      " 29  LIVE_REGION_NOT_WORK_REGION  307511 non-null  int64  \n",
      " 30  REG_CITY_NOT_LIVE_CITY       307511 non-null  int64  \n",
      " 31  REG_CITY_NOT_WORK_CITY       307511 non-null  int64  \n",
      " 32  LIVE_CITY_NOT_WORK_CITY      307511 non-null  int64  \n",
      " 33  ORGANIZATION_TYPE            307511 non-null  int32  \n",
      " 34  EXT_SOURCE_1                 307511 non-null  float64\n",
      " 35  EXT_SOURCE_2                 307511 non-null  float64\n",
      " 36  EXT_SOURCE_3                 307511 non-null  float64\n",
      " 37  OBS_30_CNT_SOCIAL_CIRCLE     307511 non-null  float64\n",
      " 38  DEF_30_CNT_SOCIAL_CIRCLE     307511 non-null  float64\n",
      " 39  OBS_60_CNT_SOCIAL_CIRCLE     307511 non-null  float64\n",
      " 40  DEF_60_CNT_SOCIAL_CIRCLE     307511 non-null  float64\n",
      " 41  DAYS_LAST_PHONE_CHANGE       307511 non-null  float64\n",
      " 42  AMT_REQ_CREDIT_BUREAU_HOUR   307511 non-null  float64\n",
      " 43  AMT_REQ_CREDIT_BUREAU_DAY    307511 non-null  float64\n",
      " 44  AMT_REQ_CREDIT_BUREAU_WEEK   307511 non-null  float64\n",
      " 45  AMT_REQ_CREDIT_BUREAU_MON    307511 non-null  float64\n",
      " 46  AMT_REQ_CREDIT_BUREAU_QRT    307511 non-null  float64\n",
      " 47  AMT_REQ_CREDIT_BUREAU_YEAR   307511 non-null  float64\n",
      "dtypes: float64(21), int32(12), int64(15)\n",
      "memory usage: 98.5 MB\n"
     ]
    }
   ],
   "source": [
    "data_new.info()"
   ]
  },
  {
   "cell_type": "code",
   "execution_count": 48,
   "id": "17b23937",
   "metadata": {},
   "outputs": [],
   "source": [
    "y = data_new[\"TARGET\"]"
   ]
  },
  {
   "cell_type": "code",
   "execution_count": 49,
   "id": "cd140798",
   "metadata": {},
   "outputs": [],
   "source": [
    "X = data_new.drop(\"TARGET\",axis=1)"
   ]
  },
  {
   "cell_type": "code",
   "execution_count": 52,
   "id": "56e71d76",
   "metadata": {},
   "outputs": [],
   "source": [
    "X_train,X_test,y_train,y_test = train_test_split(X,y,test_size=0.3,random_state=42)"
   ]
  },
  {
   "cell_type": "code",
   "execution_count": 57,
   "id": "3048f598",
   "metadata": {},
   "outputs": [],
   "source": [
    "sc = StandardScaler()\n",
    "X_train = sc.fit_transform(X_train,y_train)"
   ]
  },
  {
   "cell_type": "code",
   "execution_count": 58,
   "id": "13a6c4dc",
   "metadata": {},
   "outputs": [],
   "source": [
    "X_test = sc.transform(X_test)"
   ]
  },
  {
   "cell_type": "code",
   "execution_count": 94,
   "id": "9c7cc030",
   "metadata": {},
   "outputs": [],
   "source": [
    "LR = LogisticRegression(max_iter=1000,class_weight={0:0.3,1:0.7})\n",
    "LR.fit(X_train,y_train)\n",
    "y_test_pred = LR.predict(X_test)"
   ]
  },
  {
   "cell_type": "code",
   "execution_count": 95,
   "id": "8f8b6eab",
   "metadata": {},
   "outputs": [],
   "source": [
    "y_test_pred_prob = LR.predict_proba(X_test)[::,1]"
   ]
  },
  {
   "cell_type": "code",
   "execution_count": 96,
   "id": "a3055e67",
   "metadata": {},
   "outputs": [
    {
     "name": "stdout",
     "output_type": "stream",
     "text": [
      "Accuracy:  0.9127300713248206\n",
      "Precision:  0.3507951356407858\n",
      "Recall:  0.10117361392148927\n",
      "ROC AUC Score:  0.5424067996529571\n"
     ]
    }
   ],
   "source": [
    "acc = metrics.accuracy_score(y_test,y_test_pred)\n",
    "prec = metrics.precision_score(y_test,y_test_pred)\n",
    "rec = metrics.recall_score(y_test,y_test_pred)\n",
    "roc = metrics.roc_auc_score(y_test,y_test_pred)\n",
    "\n",
    "print(\"Accuracy: \",acc)\n",
    "print(\"Precision: \",prec)\n",
    "print(\"Recall: \",rec)\n",
    "print(\"ROC AUC Score: \",roc)"
   ]
  },
  {
   "cell_type": "code",
   "execution_count": 97,
   "id": "9ddfee9b",
   "metadata": {},
   "outputs": [
    {
     "data": {
      "text/plain": [
       "array([[[[83453,  1388],\n",
       "         [ 6663,   750]]]], dtype=int64)"
      ]
     },
     "execution_count": 97,
     "metadata": {},
     "output_type": "execute_result"
    }
   ],
   "source": [
    "cm = np.array([[metrics.confusion_matrix(y_test,y_test_pred)]])\n",
    "cm"
   ]
  },
  {
   "cell_type": "code",
   "execution_count": 98,
   "id": "d0de8524",
   "metadata": {},
   "outputs": [
    {
     "data": {
      "text/plain": [
       "<sklearn.metrics._plot.roc_curve.RocCurveDisplay at 0x1c72c0dd070>"
      ]
     },
     "execution_count": 98,
     "metadata": {},
     "output_type": "execute_result"
    },
    {
     "data": {
      "image/png": "[encoded data removed]",
      "text/plain": [
       "<Figure size 432x288 with 1 Axes>"
      ]
     },
     "metadata": {
      "needs_background": "light"
     },
     "output_type": "display_data"
    }
   ],
   "source": [
    "import warnings\n",
    "warnings = warnings.filterwarnings(\"ignore\")\n",
    "metrics.plot_roc_curve(LR,X_test,y_test)"
   ]
  }
 ],
 "metadata": {
  "kernelspec": {
   "display_name": "Python 3 (ipykernel)",
   "language": "python",
   "name": "python3"
  },
  "language_info": {
   "codemirror_mode": {
    "name": "ipython",
    "version": 3
   },
   "file_extension": ".py",
   "mimetype": "text/x-python",
   "name": "python",
   "nbconvert_exporter": "python",
   "pygments_lexer": "ipython3",
   "version": "3.9.12"
  }
 },
 "nbformat": 4,
 "nbformat_minor": 5
}
