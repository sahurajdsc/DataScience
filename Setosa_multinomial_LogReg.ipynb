{
 "cells": [
  {
   "cell_type": "code",
   "execution_count": 36,
   "id": "ba87a0ee",
   "metadata": {},
   "outputs": [
    {
     "data": {
      "text/html": [
       "<div>\n",
       "<style scoped>\n",
       "    .dataframe tbody tr th:only-of-type {\n",
       "        vertical-align: middle;\n",
       "    }\n",
       "\n",
       "    .dataframe tbody tr th {\n",
       "        vertical-align: top;\n",
       "    }\n",
       "\n",
       "    .dataframe thead th {\n",
       "        text-align: right;\n",
       "    }\n",
       "</style>\n",
       "<table border=\"1\" class=\"dataframe\">\n",
       "  <thead>\n",
       "    <tr style=\"text-align: right;\">\n",
       "      <th></th>\n",
       "      <th>sepal_length</th>\n",
       "      <th>sepal_width</th>\n",
       "      <th>petal_length</th>\n",
       "      <th>petal_width</th>\n",
       "      <th>species</th>\n",
       "    </tr>\n",
       "  </thead>\n",
       "  <tbody>\n",
       "    <tr>\n",
       "      <th>0</th>\n",
       "      <td>5.1</td>\n",
       "      <td>3.5</td>\n",
       "      <td>1.4</td>\n",
       "      <td>0.2</td>\n",
       "      <td>setosa</td>\n",
       "    </tr>\n",
       "    <tr>\n",
       "      <th>1</th>\n",
       "      <td>4.9</td>\n",
       "      <td>3.0</td>\n",
       "      <td>1.4</td>\n",
       "      <td>0.2</td>\n",
       "      <td>setosa</td>\n",
       "    </tr>\n",
       "    <tr>\n",
       "      <th>2</th>\n",
       "      <td>4.7</td>\n",
       "      <td>3.2</td>\n",
       "      <td>1.3</td>\n",
       "      <td>0.2</td>\n",
       "      <td>setosa</td>\n",
       "    </tr>\n",
       "    <tr>\n",
       "      <th>3</th>\n",
       "      <td>4.6</td>\n",
       "      <td>3.1</td>\n",
       "      <td>1.5</td>\n",
       "      <td>0.2</td>\n",
       "      <td>setosa</td>\n",
       "    </tr>\n",
       "    <tr>\n",
       "      <th>4</th>\n",
       "      <td>5.0</td>\n",
       "      <td>3.6</td>\n",
       "      <td>1.4</td>\n",
       "      <td>0.2</td>\n",
       "      <td>setosa</td>\n",
       "    </tr>\n",
       "  </tbody>\n",
       "</table>\n",
       "</div>"
      ],
      "text/plain": [
       "   sepal_length  sepal_width  petal_length  petal_width species\n",
       "0           5.1          3.5           1.4          0.2  setosa\n",
       "1           4.9          3.0           1.4          0.2  setosa\n",
       "2           4.7          3.2           1.3          0.2  setosa\n",
       "3           4.6          3.1           1.5          0.2  setosa\n",
       "4           5.0          3.6           1.4          0.2  setosa"
      ]
     },
     "execution_count": 36,
     "metadata": {},
     "output_type": "execute_result"
    }
   ],
   "source": [
    "from sklearn.preprocessing import LabelEncoder\n",
    "from sklearn.linear_model import LogisticRegression\n",
    "import seaborn as sns\n",
    "from sklearn.model_selection import train_test_split\n",
    "import matplotlib.pyplot as plt\n",
    "\n",
    "data = sns.load_dataset(\"iris\")\n",
    "\n",
    "data.head()"
   ]
  },
  {
   "cell_type": "code",
   "execution_count": 41,
   "id": "a16daa57",
   "metadata": {},
   "outputs": [
    {
     "name": "stdout",
     "output_type": "stream",
     "text": [
      "1.0\n"
     ]
    },
    {
     "data": {
      "text/plain": [
       "array([[2.10776420e-03, 6.35446620e-01, 3.62445616e-01],\n",
       "       [9.03007811e-01, 9.69909084e-02, 1.28065412e-06],\n",
       "       [7.05620062e-09, 1.95438578e-03, 9.98045607e-01],\n",
       "       [4.57294939e-03, 7.67693145e-01, 2.27733905e-01],\n",
       "       [1.01998809e-03, 6.77830936e-01, 3.21149076e-01],\n",
       "       [9.51186557e-01, 4.88130508e-02, 3.92452396e-07],\n",
       "       [7.29765342e-02, 9.13280861e-01, 1.37426043e-02],\n",
       "       [2.80684889e-04, 4.32034189e-01, 5.67685126e-01],\n",
       "       [4.06121882e-03, 7.94604734e-01, 2.01334047e-01],\n",
       "       [2.98509184e-02, 9.34121494e-01, 3.60275873e-02],\n",
       "       [3.14950868e-04, 3.56890439e-01, 6.42794610e-01],\n",
       "       [9.75482503e-01, 2.45172775e-02, 2.19313206e-07],\n",
       "       [9.67768466e-01, 3.22314188e-02, 1.15115221e-07],\n",
       "       [9.66187437e-01, 3.38121595e-02, 4.03189147e-07],\n",
       "       [9.60811588e-01, 3.91880131e-02, 3.99130773e-07],\n",
       "       [1.91005329e-03, 6.71129029e-01, 3.26960918e-01],\n",
       "       [6.09365061e-06, 4.09938569e-02, 9.59000049e-01],\n",
       "       [3.44088685e-02, 9.23873625e-01, 4.17175063e-02],\n",
       "       [5.41814696e-03, 7.22914295e-01, 2.71667558e-01],\n",
       "       [2.02738278e-05, 7.59471013e-02, 9.24032625e-01],\n",
       "       [9.62716043e-01, 3.72832067e-02, 7.50764110e-07],\n",
       "       [9.11072162e-04, 4.56902846e-01, 5.42186082e-01],\n",
       "       [9.53536236e-01, 4.64630256e-02, 7.38561723e-07],\n",
       "       [2.02738278e-05, 7.59471013e-02, 9.24032625e-01],\n",
       "       [1.56011198e-07, 1.41111869e-02, 9.85888657e-01],\n",
       "       [1.82350339e-04, 3.10605532e-01, 6.89212118e-01],\n",
       "       [6.07880477e-06, 4.76609745e-02, 9.52332947e-01],\n",
       "       [3.31451227e-06, 3.61845451e-02, 9.63812140e-01],\n",
       "       [9.75482503e-01, 2.45172775e-02, 2.19313206e-07],\n",
       "       [9.59868391e-01, 4.01308618e-02, 7.46847191e-07]])"
      ]
     },
     "execution_count": 41,
     "metadata": {},
     "output_type": "execute_result"
    }
   ],
   "source": [
    "lb = LabelEncoder()\n",
    "data_new = data\n",
    "data_new[\"species\"] = lb.fit_transform(data_new[\"species\"])\n",
    "\n",
    "data_new.head()\n",
    "\n",
    "X = data_new[[\"sepal_length\",\"petal_length\"]].copy()\n",
    "y = data_new[\"species\"].copy()\n",
    "\n",
    "X_train,X_test,y_train,y_test = train_test_split(X,y,test_size=0.2,random_state=42)\n",
    "\n",
    "LR = LogisticRegression(multi_class=\"multinomial\")\n",
    "\n",
    "LR.fit(X_train,y_train)\n",
    "y_test_predict = LR.predict(X_test)\n",
    "\n",
    "from sklearn.metrics import confusion_matrix\n",
    "from sklearn import metrics\n",
    "\n",
    "confusionMatrix = confusion_matrix(y_test,y_test_predict)\n",
    "confusionMatrix\n",
    "\n",
    "acc = metrics.accuracy_score(y_test,y_test_predict)\n",
    "\n",
    "print(acc)\n",
    "\n",
    "y_pred_proba = LR.predict_proba(X_test)\n",
    "\n",
    "y_pred_proba"
   ]
  },
  {
   "cell_type": "code",
   "execution_count": 53,
   "id": "77105947",
   "metadata": {},
   "outputs": [
    {
     "name": "stderr",
     "output_type": "stream",
     "text": [
      "C:\\Users\\RajnarayanSahu\\anaconda3\\lib\\site-packages\\sklearn\\base.py:450: UserWarning: X does not have valid feature names, but LogisticRegression was fitted with feature names\n",
      "  warnings.warn(\n"
     ]
    },
    {
     "data": {
      "text/plain": [
       "array([[9.09836906e-01, 9.01070001e-02, 5.60942148e-05]])"
      ]
     },
     "execution_count": 53,
     "metadata": {},
     "output_type": "execute_result"
    }
   ],
   "source": [
    "import numpy as np\n",
    "query = np.array([[3.6,2.3]])\n",
    "\n",
    "#Predictns = LR.predict(query)\n",
    "X_test.shape\n",
    "\n",
    "query\n",
    "LR.predict_proba(query)\n",
    "#LR.predict(query)"
   ]
  },
  {
   "cell_type": "code",
   "execution_count": 68,
   "id": "c1ea0c22",
   "metadata": {},
   "outputs": [
    {
     "name": "stdout",
     "output_type": "stream",
     "text": [
      "1.0\n",
      "[[10  0  0]\n",
      " [ 0  9  0]\n",
      " [ 0  0 11]]\n"
     ]
    }
   ],
   "source": [
    "import warnings\n",
    "warnings.filterwarnings(\"ignore\")\n",
    "\n",
    "X_new = data.iloc[:,0:4]\n",
    "y_new = data.iloc[:,-1]\n",
    "\n",
    "X_new_train,X_new_test,y_new_train,y_new_test = train_test_split(X_new,y_new,test_size=0.2,random_state=42)\n",
    "\n",
    "LR.fit(X_new_train,y_new_train)\n",
    "y_new_pred = LR.predict(X_new_test)\n",
    "\n",
    "Acc_new = metrics.accuracy_score(y_new_test,y_new_pred)\n",
    "\n",
    "print(Acc_new)\n",
    "\n",
    "print(metrics.confusion_matrix(y_new_test,y_new_pred))"
   ]
  }
 ],
 "metadata": {
  "kernelspec": {
   "display_name": "Python 3 (ipykernel)",
   "language": "python",
   "name": "python3"
  },
  "language_info": {
   "codemirror_mode": {
    "name": "ipython",
    "version": 3
   },
   "file_extension": ".py",
   "mimetype": "text/x-python",
   "name": "python",
   "nbconvert_exporter": "python",
   "pygments_lexer": "ipython3",
   "version": "3.9.12"
  }
 },
 "nbformat": 4,
 "nbformat_minor": 5
}
