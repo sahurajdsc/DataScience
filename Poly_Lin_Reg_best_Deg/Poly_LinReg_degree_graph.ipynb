{
 "cells": [
  {
   "cell_type": "code",
   "execution_count": 2,
   "id": "16c28764",
   "metadata": {},
   "outputs": [],
   "source": [
    "import numpy as np\n",
    "import pandas as pd\n",
    "from sklearn.model_selection import train_test_split\n",
    "from sklearn.linear_model import LinearRegression\n",
    "from sklearn.preprocessing import PolynomialFeatures\n",
    "from sklearn import metrics\n",
    "import matplotlib.pyplot as plt\n",
    "import seaborn as sns"
   ]
  },
  {
   "cell_type": "code",
   "execution_count": 3,
   "id": "92145937",
   "metadata": {},
   "outputs": [],
   "source": [
    "df = pd.read_csv(r'C:\\Users\\RajnarayanSahu\\OneDrive - National Pen Company\\Documents\\All imp files\\Data Science\\Python-20220910T133417Z-001\\Python\\Solved_by_own\\Poly_Lin_Reg_best_Deg\\polynomial-regression.csv')"
   ]
  },
  {
   "cell_type": "code",
   "execution_count": 14,
   "id": "6f38b633",
   "metadata": {},
   "outputs": [
    {
     "data": {
      "text/html": [
       "<div>\n",
       "<style scoped>\n",
       "    .dataframe tbody tr th:only-of-type {\n",
       "        vertical-align: middle;\n",
       "    }\n",
       "\n",
       "    .dataframe tbody tr th {\n",
       "        vertical-align: top;\n",
       "    }\n",
       "\n",
       "    .dataframe thead th {\n",
       "        text-align: right;\n",
       "    }\n",
       "</style>\n",
       "<table border=\"1\" class=\"dataframe\">\n",
       "  <thead>\n",
       "    <tr style=\"text-align: right;\">\n",
       "      <th></th>\n",
       "      <th>X1</th>\n",
       "    </tr>\n",
       "  </thead>\n",
       "  <tbody>\n",
       "    <tr>\n",
       "      <th>0</th>\n",
       "      <td>92</td>\n",
       "    </tr>\n",
       "    <tr>\n",
       "      <th>1</th>\n",
       "      <td>33</td>\n",
       "    </tr>\n",
       "    <tr>\n",
       "      <th>2</th>\n",
       "      <td>62</td>\n",
       "    </tr>\n",
       "    <tr>\n",
       "      <th>3</th>\n",
       "      <td>90</td>\n",
       "    </tr>\n",
       "    <tr>\n",
       "      <th>4</th>\n",
       "      <td>69</td>\n",
       "    </tr>\n",
       "    <tr>\n",
       "      <th>5</th>\n",
       "      <td>87</td>\n",
       "    </tr>\n",
       "    <tr>\n",
       "      <th>6</th>\n",
       "      <td>83</td>\n",
       "    </tr>\n",
       "    <tr>\n",
       "      <th>7</th>\n",
       "      <td>90</td>\n",
       "    </tr>\n",
       "    <tr>\n",
       "      <th>8</th>\n",
       "      <td>14</td>\n",
       "    </tr>\n",
       "    <tr>\n",
       "      <th>9</th>\n",
       "      <td>25</td>\n",
       "    </tr>\n",
       "    <tr>\n",
       "      <th>10</th>\n",
       "      <td>48</td>\n",
       "    </tr>\n",
       "    <tr>\n",
       "      <th>11</th>\n",
       "      <td>55</td>\n",
       "    </tr>\n",
       "    <tr>\n",
       "      <th>12</th>\n",
       "      <td>45</td>\n",
       "    </tr>\n",
       "    <tr>\n",
       "      <th>13</th>\n",
       "      <td>49</td>\n",
       "    </tr>\n",
       "    <tr>\n",
       "      <th>14</th>\n",
       "      <td>37</td>\n",
       "    </tr>\n",
       "  </tbody>\n",
       "</table>\n",
       "</div>"
      ],
      "text/plain": [
       "    X1\n",
       "0   92\n",
       "1   33\n",
       "2   62\n",
       "3   90\n",
       "4   69\n",
       "5   87\n",
       "6   83\n",
       "7   90\n",
       "8   14\n",
       "9   25\n",
       "10  48\n",
       "11  55\n",
       "12  45\n",
       "13  49\n",
       "14  37"
      ]
     },
     "execution_count": 14,
     "metadata": {},
     "output_type": "execute_result"
    }
   ],
   "source": [
    "X=df[\"X\"]\n",
    "y=df[\"y\"]\n",
    "\n",
    "newcol = pd.DataFrame({\"X1\":np.random.randint(low=10,high=100,size=15)})"
   ]
  },
  {
   "cell_type": "code",
   "execution_count": 33,
   "id": "2f0ba81a",
   "metadata": {},
   "outputs": [
    {
     "data": {
      "text/plain": [
       "0     180.0\n",
       "1     180.0\n",
       "2     200.0\n",
       "3     200.0\n",
       "4     200.0\n",
       "5     220.0\n",
       "6     240.0\n",
       "7     240.0\n",
       "8     300.0\n",
       "9     350.0\n",
       "10    350.0\n",
       "11    360.0\n",
       "12    365.0\n",
       "13    365.0\n",
       "14    365.0\n",
       "Name: y, dtype: float64"
      ]
     },
     "execution_count": 33,
     "metadata": {},
     "output_type": "execute_result"
    }
   ],
   "source": [
    "y"
   ]
  },
  {
   "cell_type": "code",
   "execution_count": 94,
   "id": "7297622c",
   "metadata": {},
   "outputs": [
    {
     "name": "stdout",
     "output_type": "stream",
     "text": [
      "<class 'pandas.core.frame.DataFrame'>\n",
      "RangeIndex: 15 entries, 0 to 14\n",
      "Data columns (total 2 columns):\n",
      " #   Column  Non-Null Count  Dtype  \n",
      "---  ------  --------------  -----  \n",
      " 0   X       15 non-null     float64\n",
      " 1   X1      15 non-null     int32  \n",
      "dtypes: float64(1), int32(1)\n",
      "memory usage: 308.0 bytes\n"
     ]
    }
   ],
   "source": [
    "X = pd.concat([df[\"X\"],newcol],axis=1)\n",
    "X.info()\n",
    "newdf = pd.concat([X,y],axis=1)"
   ]
  },
  {
   "cell_type": "code",
   "execution_count": 132,
   "id": "5252bae3",
   "metadata": {},
   "outputs": [
    {
     "data": {
      "text/html": [
       "<div>\n",
       "<style scoped>\n",
       "    .dataframe tbody tr th:only-of-type {\n",
       "        vertical-align: middle;\n",
       "    }\n",
       "\n",
       "    .dataframe tbody tr th {\n",
       "        vertical-align: top;\n",
       "    }\n",
       "\n",
       "    .dataframe thead th {\n",
       "        text-align: right;\n",
       "    }\n",
       "</style>\n",
       "<table border=\"1\" class=\"dataframe\">\n",
       "  <thead>\n",
       "    <tr style=\"text-align: right;\">\n",
       "      <th></th>\n",
       "      <th>X</th>\n",
       "      <th>X1</th>\n",
       "      <th>y</th>\n",
       "    </tr>\n",
       "  </thead>\n",
       "  <tbody>\n",
       "    <tr>\n",
       "      <th>0</th>\n",
       "      <td>60.0</td>\n",
       "      <td>12.0</td>\n",
       "      <td>180.0</td>\n",
       "    </tr>\n",
       "    <tr>\n",
       "      <th>1</th>\n",
       "      <td>70.0</td>\n",
       "      <td>14.0</td>\n",
       "      <td>180.0</td>\n",
       "    </tr>\n",
       "    <tr>\n",
       "      <th>2</th>\n",
       "      <td>80.0</td>\n",
       "      <td>16.0</td>\n",
       "      <td>200.0</td>\n",
       "    </tr>\n",
       "    <tr>\n",
       "      <th>3</th>\n",
       "      <td>100.0</td>\n",
       "      <td>20.0</td>\n",
       "      <td>200.0</td>\n",
       "    </tr>\n",
       "    <tr>\n",
       "      <th>4</th>\n",
       "      <td>120.0</td>\n",
       "      <td>24.0</td>\n",
       "      <td>200.0</td>\n",
       "    </tr>\n",
       "    <tr>\n",
       "      <th>5</th>\n",
       "      <td>150.0</td>\n",
       "      <td>30.0</td>\n",
       "      <td>220.0</td>\n",
       "    </tr>\n",
       "    <tr>\n",
       "      <th>6</th>\n",
       "      <td>200.0</td>\n",
       "      <td>40.0</td>\n",
       "      <td>240.0</td>\n",
       "    </tr>\n",
       "    <tr>\n",
       "      <th>7</th>\n",
       "      <td>250.0</td>\n",
       "      <td>50.0</td>\n",
       "      <td>240.0</td>\n",
       "    </tr>\n",
       "    <tr>\n",
       "      <th>8</th>\n",
       "      <td>300.0</td>\n",
       "      <td>60.0</td>\n",
       "      <td>300.0</td>\n",
       "    </tr>\n",
       "    <tr>\n",
       "      <th>9</th>\n",
       "      <td>400.0</td>\n",
       "      <td>80.0</td>\n",
       "      <td>350.0</td>\n",
       "    </tr>\n",
       "    <tr>\n",
       "      <th>10</th>\n",
       "      <td>500.0</td>\n",
       "      <td>100.0</td>\n",
       "      <td>350.0</td>\n",
       "    </tr>\n",
       "    <tr>\n",
       "      <th>11</th>\n",
       "      <td>750.0</td>\n",
       "      <td>150.0</td>\n",
       "      <td>360.0</td>\n",
       "    </tr>\n",
       "    <tr>\n",
       "      <th>12</th>\n",
       "      <td>1000.0</td>\n",
       "      <td>200.0</td>\n",
       "      <td>365.0</td>\n",
       "    </tr>\n",
       "    <tr>\n",
       "      <th>13</th>\n",
       "      <td>2000.0</td>\n",
       "      <td>400.0</td>\n",
       "      <td>365.0</td>\n",
       "    </tr>\n",
       "    <tr>\n",
       "      <th>14</th>\n",
       "      <td>3000.0</td>\n",
       "      <td>600.0</td>\n",
       "      <td>365.0</td>\n",
       "    </tr>\n",
       "  </tbody>\n",
       "</table>\n",
       "</div>"
      ],
      "text/plain": [
       "         X     X1      y\n",
       "0     60.0   12.0  180.0\n",
       "1     70.0   14.0  180.0\n",
       "2     80.0   16.0  200.0\n",
       "3    100.0   20.0  200.0\n",
       "4    120.0   24.0  200.0\n",
       "5    150.0   30.0  220.0\n",
       "6    200.0   40.0  240.0\n",
       "7    250.0   50.0  240.0\n",
       "8    300.0   60.0  300.0\n",
       "9    400.0   80.0  350.0\n",
       "10   500.0  100.0  350.0\n",
       "11   750.0  150.0  360.0\n",
       "12  1000.0  200.0  365.0\n",
       "13  2000.0  400.0  365.0\n",
       "14  3000.0  600.0  365.0"
      ]
     },
     "execution_count": 132,
     "metadata": {},
     "output_type": "execute_result"
    }
   ],
   "source": [
    "newdf\n",
    "X1 = newdf.iloc[:,0:3]\n",
    "X1"
   ]
  },
  {
   "cell_type": "code",
   "execution_count": 133,
   "id": "198e5b67",
   "metadata": {},
   "outputs": [],
   "source": [
    "y1=newdf.iloc[:,-1]"
   ]
  },
  {
   "cell_type": "code",
   "execution_count": 134,
   "id": "b6def286",
   "metadata": {},
   "outputs": [
    {
     "data": {
      "text/plain": [
       "0     180.0\n",
       "1     180.0\n",
       "2     200.0\n",
       "3     200.0\n",
       "4     200.0\n",
       "5     220.0\n",
       "6     240.0\n",
       "7     240.0\n",
       "8     300.0\n",
       "9     350.0\n",
       "10    350.0\n",
       "11    360.0\n",
       "12    365.0\n",
       "13    365.0\n",
       "14    365.0\n",
       "Name: y, dtype: float64"
      ]
     },
     "execution_count": 134,
     "metadata": {},
     "output_type": "execute_result"
    }
   ],
   "source": [
    "y1"
   ]
  },
  {
   "cell_type": "code",
   "execution_count": 130,
   "id": "1258ca2f",
   "metadata": {},
   "outputs": [],
   "source": [
    "newdf[\"X1\"] = newdf[\"X\"]*0.2"
   ]
  },
  {
   "cell_type": "code",
   "execution_count": 125,
   "id": "bda8a671",
   "metadata": {},
   "outputs": [
    {
     "data": {
      "text/plain": [
       "[<matplotlib.lines.Line2D at 0x2557233fd00>]"
      ]
     },
     "execution_count": 125,
     "metadata": {},
     "output_type": "execute_result"
    },
    {
     "data": {
      "image/png": "[encoded data removed]",
      "text/plain": [
       "<Figure size 432x288 with 1 Axes>"
      ]
     },
     "metadata": {
      "needs_background": "light"
     },
     "output_type": "display_data"
    }
   ],
   "source": [
    "plt.plot(newdf[\"X1\"],y1)"
   ]
  },
  {
   "cell_type": "code",
   "execution_count": 135,
   "id": "ca235643",
   "metadata": {},
   "outputs": [],
   "source": [
    "def polyplotter(X,y,k):\n",
    "    X_train,X_test,y_train,y_test = train_test_split(X,y,test_size=0.2,random_state=45)\n",
    "    pf = PolynomialFeatures(degree=k)\n",
    "    X_train_poly = pf.fit_transform(X_train)\n",
    "    X_test_poly = pf.fit_transform(X_test)\n",
    "    LinRegPoly = LinearRegression()\n",
    "    LinRegPoly.fit(X_train_poly,y_train)\n",
    "    y_test_pred_poly = LinRegPoly.predict(X_test_poly)\n",
    "    y_train_pred_poly = LinRegPoly.predict(X_train_poly)\n",
    "    R2_train_score = metrics.r2_score(y_train,y_train_pred_poly)\n",
    "    R2_test_score = metrics.r2_score(y_test,y_test_pred_poly)\n",
    "    return R2_train_score,R2_test_score;\n",
    "\n"
   ]
  },
  {
   "cell_type": "code",
   "execution_count": 137,
   "id": "b9cd3843",
   "metadata": {},
   "outputs": [
    {
     "data": {
      "text/plain": [
       "[<matplotlib.lines.Line2D at 0x255723c2d60>]"
      ]
     },
     "execution_count": 137,
     "metadata": {},
     "output_type": "execute_result"
    },
    {
     "data": {
      "image/png": "[encoded data removed]",
      "text/plain": [
       "<Figure size 432x288 with 1 Axes>"
      ]
     },
     "metadata": {
      "needs_background": "light"
     },
     "output_type": "display_data"
    }
   ],
   "source": [
    "train = []\n",
    "test = []\n",
    "for i in range(1,8):\n",
    "    R2_train,R2_test = polyplotter(X1,y1,i)\n",
    "    train.append(R2_train)\n",
    "    test.append(R2_test)\n",
    "\n",
    "plt.plot(train,label=\"Training\")\n",
    "plt.plot(test,label=\"Testing\")"
   ]
  }
 ],
 "metadata": {
  "kernelspec": {
   "display_name": "Python 3 (ipykernel)",
   "language": "python",
   "name": "python3"
  },
  "language_info": {
   "codemirror_mode": {
    "name": "ipython",
    "version": 3
   },
   "file_extension": ".py",
   "mimetype": "text/x-python",
   "name": "python",
   "nbconvert_exporter": "python",
   "pygments_lexer": "ipython3",
   "version": "3.9.12"
  }
 },
 "nbformat": 4,
 "nbformat_minor": 5
}
