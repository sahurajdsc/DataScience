{
 "cells": [
  {
   "cell_type": "code",
   "execution_count": 340,
   "id": "94435036",
   "metadata": {},
   "outputs": [],
   "source": [
    "import numpy as np\n",
    "import pandas as pd\n",
    "from sklearn.model_selection import train_test_split\n",
    "from sklearn.linear_model import LogisticRegression\n",
    "import seaborn as sns\n",
    "import matplotlib.pyplot as plt\n",
    "from sklearn.preprocessing import StandardScaler"
   ]
  },
  {
   "cell_type": "code",
   "execution_count": 341,
   "id": "a44be59b",
   "metadata": {},
   "outputs": [
    {
     "data": {
      "text/html": [
       "<div>\n",
       "<style scoped>\n",
       "    .dataframe tbody tr th:only-of-type {\n",
       "        vertical-align: middle;\n",
       "    }\n",
       "\n",
       "    .dataframe tbody tr th {\n",
       "        vertical-align: top;\n",
       "    }\n",
       "\n",
       "    .dataframe thead th {\n",
       "        text-align: right;\n",
       "    }\n",
       "</style>\n",
       "<table border=\"1\" class=\"dataframe\">\n",
       "  <thead>\n",
       "    <tr style=\"text-align: right;\">\n",
       "      <th></th>\n",
       "      <th>male</th>\n",
       "      <th>age</th>\n",
       "      <th>education</th>\n",
       "      <th>currentSmoker</th>\n",
       "      <th>cigsPerDay</th>\n",
       "      <th>BPMeds</th>\n",
       "      <th>prevalentStroke</th>\n",
       "      <th>prevalentHyp</th>\n",
       "      <th>diabetes</th>\n",
       "      <th>totChol</th>\n",
       "      <th>sysBP</th>\n",
       "      <th>diaBP</th>\n",
       "      <th>BMI</th>\n",
       "      <th>heartRate</th>\n",
       "      <th>glucose</th>\n",
       "      <th>TenYearCHD</th>\n",
       "    </tr>\n",
       "  </thead>\n",
       "  <tbody>\n",
       "    <tr>\n",
       "      <th>0</th>\n",
       "      <td>1</td>\n",
       "      <td>39</td>\n",
       "      <td>4.0</td>\n",
       "      <td>0</td>\n",
       "      <td>0.0</td>\n",
       "      <td>0.0</td>\n",
       "      <td>0</td>\n",
       "      <td>0</td>\n",
       "      <td>0</td>\n",
       "      <td>195.0</td>\n",
       "      <td>106.0</td>\n",
       "      <td>70.0</td>\n",
       "      <td>26.97</td>\n",
       "      <td>80.0</td>\n",
       "      <td>77.0</td>\n",
       "      <td>0</td>\n",
       "    </tr>\n",
       "    <tr>\n",
       "      <th>1</th>\n",
       "      <td>0</td>\n",
       "      <td>46</td>\n",
       "      <td>2.0</td>\n",
       "      <td>0</td>\n",
       "      <td>0.0</td>\n",
       "      <td>0.0</td>\n",
       "      <td>0</td>\n",
       "      <td>0</td>\n",
       "      <td>0</td>\n",
       "      <td>250.0</td>\n",
       "      <td>121.0</td>\n",
       "      <td>81.0</td>\n",
       "      <td>28.73</td>\n",
       "      <td>95.0</td>\n",
       "      <td>76.0</td>\n",
       "      <td>0</td>\n",
       "    </tr>\n",
       "    <tr>\n",
       "      <th>2</th>\n",
       "      <td>1</td>\n",
       "      <td>48</td>\n",
       "      <td>1.0</td>\n",
       "      <td>1</td>\n",
       "      <td>20.0</td>\n",
       "      <td>0.0</td>\n",
       "      <td>0</td>\n",
       "      <td>0</td>\n",
       "      <td>0</td>\n",
       "      <td>245.0</td>\n",
       "      <td>127.5</td>\n",
       "      <td>80.0</td>\n",
       "      <td>25.34</td>\n",
       "      <td>75.0</td>\n",
       "      <td>70.0</td>\n",
       "      <td>0</td>\n",
       "    </tr>\n",
       "    <tr>\n",
       "      <th>3</th>\n",
       "      <td>0</td>\n",
       "      <td>61</td>\n",
       "      <td>3.0</td>\n",
       "      <td>1</td>\n",
       "      <td>30.0</td>\n",
       "      <td>0.0</td>\n",
       "      <td>0</td>\n",
       "      <td>1</td>\n",
       "      <td>0</td>\n",
       "      <td>225.0</td>\n",
       "      <td>150.0</td>\n",
       "      <td>95.0</td>\n",
       "      <td>28.58</td>\n",
       "      <td>65.0</td>\n",
       "      <td>103.0</td>\n",
       "      <td>1</td>\n",
       "    </tr>\n",
       "    <tr>\n",
       "      <th>4</th>\n",
       "      <td>0</td>\n",
       "      <td>46</td>\n",
       "      <td>3.0</td>\n",
       "      <td>1</td>\n",
       "      <td>23.0</td>\n",
       "      <td>0.0</td>\n",
       "      <td>0</td>\n",
       "      <td>0</td>\n",
       "      <td>0</td>\n",
       "      <td>285.0</td>\n",
       "      <td>130.0</td>\n",
       "      <td>84.0</td>\n",
       "      <td>23.10</td>\n",
       "      <td>85.0</td>\n",
       "      <td>85.0</td>\n",
       "      <td>0</td>\n",
       "    </tr>\n",
       "  </tbody>\n",
       "</table>\n",
       "</div>"
      ],
      "text/plain": [
       "   male  age  education  currentSmoker  cigsPerDay  BPMeds  prevalentStroke  \\\n",
       "0     1   39        4.0              0         0.0     0.0                0   \n",
       "1     0   46        2.0              0         0.0     0.0                0   \n",
       "2     1   48        1.0              1        20.0     0.0                0   \n",
       "3     0   61        3.0              1        30.0     0.0                0   \n",
       "4     0   46        3.0              1        23.0     0.0                0   \n",
       "\n",
       "   prevalentHyp  diabetes  totChol  sysBP  diaBP    BMI  heartRate  glucose  \\\n",
       "0             0         0    195.0  106.0   70.0  26.97       80.0     77.0   \n",
       "1             0         0    250.0  121.0   81.0  28.73       95.0     76.0   \n",
       "2             0         0    245.0  127.5   80.0  25.34       75.0     70.0   \n",
       "3             1         0    225.0  150.0   95.0  28.58       65.0    103.0   \n",
       "4             0         0    285.0  130.0   84.0  23.10       85.0     85.0   \n",
       "\n",
       "   TenYearCHD  \n",
       "0           0  \n",
       "1           0  \n",
       "2           0  \n",
       "3           1  \n",
       "4           0  "
      ]
     },
     "execution_count": 341,
     "metadata": {},
     "output_type": "execute_result"
    }
   ],
   "source": [
    "data = pd.read_csv(R'C:\\Users\\RajnarayanSahu\\OneDrive - National Pen Company\\Documents\\All imp files\\Data Science\\Python-20220910T133417Z-001\\Python\\Solved_by_own\\Heart_Disease\\framingham.csv')\n",
    "\n",
    "data.head()"
   ]
  },
  {
   "cell_type": "code",
   "execution_count": 342,
   "id": "7e4a40a6",
   "metadata": {},
   "outputs": [
    {
     "name": "stdout",
     "output_type": "stream",
     "text": [
      "<class 'pandas.core.frame.DataFrame'>\n",
      "RangeIndex: 4238 entries, 0 to 4237\n",
      "Data columns (total 16 columns):\n",
      " #   Column           Non-Null Count  Dtype  \n",
      "---  ------           --------------  -----  \n",
      " 0   male             4238 non-null   int64  \n",
      " 1   age              4238 non-null   int64  \n",
      " 2   education        4133 non-null   float64\n",
      " 3   currentSmoker    4238 non-null   int64  \n",
      " 4   cigsPerDay       4209 non-null   float64\n",
      " 5   BPMeds           4185 non-null   float64\n",
      " 6   prevalentStroke  4238 non-null   int64  \n",
      " 7   prevalentHyp     4238 non-null   int64  \n",
      " 8   diabetes         4238 non-null   int64  \n",
      " 9   totChol          4188 non-null   float64\n",
      " 10  sysBP            4238 non-null   float64\n",
      " 11  diaBP            4238 non-null   float64\n",
      " 12  BMI              4219 non-null   float64\n",
      " 13  heartRate        4237 non-null   float64\n",
      " 14  glucose          3850 non-null   float64\n",
      " 15  TenYearCHD       4238 non-null   int64  \n",
      "dtypes: float64(9), int64(7)\n",
      "memory usage: 529.9 KB\n"
     ]
    }
   ],
   "source": [
    "#No Categorical columns\n",
    "data.info()"
   ]
  },
  {
   "cell_type": "code",
   "execution_count": 343,
   "id": "751813a7",
   "metadata": {},
   "outputs": [
    {
     "data": {
      "text/plain": [
       "glucose            9.16\n",
       "education          2.48\n",
       "BPMeds             1.25\n",
       "totChol            1.18\n",
       "cigsPerDay         0.68\n",
       "BMI                0.45\n",
       "heartRate          0.02\n",
       "male               0.00\n",
       "age                0.00\n",
       "currentSmoker      0.00\n",
       "prevalentStroke    0.00\n",
       "prevalentHyp       0.00\n",
       "diabetes           0.00\n",
       "sysBP              0.00\n",
       "diaBP              0.00\n",
       "TenYearCHD         0.00\n",
       "dtype: float64"
      ]
     },
     "execution_count": 343,
     "metadata": {},
     "output_type": "execute_result"
    }
   ],
   "source": [
    "#finding nulls\n",
    "round((data.isnull().mean())*100,2).sort_values(ascending=False)"
   ]
  },
  {
   "cell_type": "code",
   "execution_count": 344,
   "id": "8bd99b1b",
   "metadata": {},
   "outputs": [
    {
     "data": {
      "text/plain": [
       "False    3850\n",
       "True      388\n",
       "Name: glucose, dtype: int64"
      ]
     },
     "execution_count": 344,
     "metadata": {},
     "output_type": "execute_result"
    }
   ],
   "source": [
    "data[\"glucose\"].isnull().value_counts()"
   ]
  },
  {
   "cell_type": "code",
   "execution_count": 133,
   "id": "74303c95",
   "metadata": {},
   "outputs": [],
   "source": [
    "#(data[data[\"glucose\"].isnull()==True][\"age\"].value_counts()).sort_values()\n",
    "#Null values for glucose readings are between age: 34 to 69\n",
    "#lets create groups of these ages and impute them by their age group's median glucose value\n",
    "#Example: nulls of 30-40 = median glucose age 30-40\n",
    "#data[(data[\"age\"]>30) & (data[\"age\"]<40)][\"glucose\"].median()"
   ]
  },
  {
   "cell_type": "code",
   "execution_count": 345,
   "id": "2fc3d919",
   "metadata": {},
   "outputs": [
    {
     "name": "stdout",
     "output_type": "stream",
     "text": [
      "median Glucose betn age 30-40: 77.0\n",
      "median Glucose betn age 40-50: 77.0\n",
      "median Glucose betn age 50-60: 78.0\n",
      "median Glucose betn age 70-80: 81.0\n"
     ]
    }
   ],
   "source": [
    "#median Glucose betn age 30-40\n",
    "print(\"median Glucose betn age 30-40:\",data[(data[\"age\"]>=30) & (data[\"age\"]<40)][\"glucose\"].median())\n",
    "#median Glucose betn age 40-50\n",
    "print(\"median Glucose betn age 40-50:\",data[(data[\"age\"]>=40) & (data[\"age\"]<50)][\"glucose\"].median())\n",
    "#median Glucose betn age 50-60\n",
    "print(\"median Glucose betn age 50-60:\",data[(data[\"age\"]>=50) & (data[\"age\"]<60)][\"glucose\"].median())\n",
    "#median Glucose betn age 60-70\n",
    "print(\"median Glucose betn age 70-80:\",data[(data[\"age\"]>=60) & (data[\"age\"]<70)][\"glucose\"].median())"
   ]
  },
  {
   "cell_type": "code",
   "execution_count": 346,
   "id": "e9e92b6b",
   "metadata": {},
   "outputs": [],
   "source": [
    "data.loc[(data[\"age\"]>=30) & (data[\"age\"]<40),\"glucose\"] = data[(data[\"age\"]>=30) & (data[\"age\"]<40)][\"glucose\"].fillna(77.0)\n",
    "data.loc[(data[\"age\"]>=40) & (data[\"age\"]<50),\"glucose\"] = data[(data[\"age\"]>=40) & (data[\"age\"]<50)][\"glucose\"].fillna(77.0)\n",
    "data.loc[(data[\"age\"]>=50) & (data[\"age\"]<60),\"glucose\"] = data[(data[\"age\"]>=50) & (data[\"age\"]<60)][\"glucose\"].fillna(78.0)\n",
    "data.loc[(data[\"age\"]>=60) & (data[\"age\"]<70),\"glucose\"] = data[(data[\"age\"]>=60) & (data[\"age\"]<70)][\"glucose\"].fillna(81.0)"
   ]
  },
  {
   "cell_type": "code",
   "execution_count": 347,
   "id": "2c97a627",
   "metadata": {},
   "outputs": [
    {
     "name": "stdout",
     "output_type": "stream",
     "text": [
      "median totChol betn age 30-40: 210.0\n",
      "median totChol betn age 40-50: 228.0\n",
      "median totChol betn age 50-60: 243.0\n",
      "median totChol betn age 70-80: 246.0\n"
     ]
    }
   ],
   "source": [
    "#median Glucose betn age 30-40\n",
    "print(\"median totChol betn age 30-40:\",data[(data[\"age\"]>=30) & (data[\"age\"]<40)][\"totChol\"].median())\n",
    "#median Glucose betn age 40-50\n",
    "print(\"median totChol betn age 40-50:\",data[(data[\"age\"]>=40) & (data[\"age\"]<50)][\"totChol\"].median())\n",
    "#median Glucose betn age 50-60\n",
    "print(\"median totChol betn age 50-60:\",data[(data[\"age\"]>=50) & (data[\"age\"]<60)][\"totChol\"].median())\n",
    "#median Glucose betn age 60-70\n",
    "print(\"median totChol betn age 70-80:\",data[(data[\"age\"]>=60) & (data[\"age\"]<70)][\"totChol\"].median())"
   ]
  },
  {
   "cell_type": "code",
   "execution_count": 348,
   "id": "8cb89112",
   "metadata": {},
   "outputs": [],
   "source": [
    "data.loc[(data[\"age\"]>=30) & (data[\"age\"]<40),\"totChol\"] = data[(data[\"age\"]>=30) & (data[\"age\"]<40)][\"totChol\"].fillna(210.0)\n",
    "data.loc[(data[\"age\"]>=40) & (data[\"age\"]<50),\"totChol\"] = data[(data[\"age\"]>=40) & (data[\"age\"]<50)][\"totChol\"].fillna(228.0)\n",
    "data.loc[(data[\"age\"]>=50) & (data[\"age\"]<60),\"totChol\"] = data[(data[\"age\"]>=50) & (data[\"age\"]<60)][\"totChol\"].fillna(243.0)\n",
    "data.loc[(data[\"age\"]>=60) & (data[\"age\"]<70),\"totChol\"] = data[(data[\"age\"]>=60) & (data[\"age\"]<70)][\"totChol\"].fillna(246.0)"
   ]
  },
  {
   "cell_type": "code",
   "execution_count": 349,
   "id": "83d2bf90",
   "metadata": {},
   "outputs": [
    {
     "data": {
      "text/plain": [
       "False    4238\n",
       "Name: glucose, dtype: int64"
      ]
     },
     "execution_count": 349,
     "metadata": {},
     "output_type": "execute_result"
    }
   ],
   "source": [
    "#Null Values for glucose is treated\n",
    "data[\"glucose\"].isnull().value_counts()"
   ]
  },
  {
   "cell_type": "code",
   "execution_count": 350,
   "id": "d310e14a",
   "metadata": {},
   "outputs": [
    {
     "name": "stdout",
     "output_type": "stream",
     "text": [
      "Mode in Education:  1.0\n"
     ]
    }
   ],
   "source": [
    "#Imputing Education with mode\n",
    "print(\"Mode in Education: \",data[\"education\"].mode()[0])\n",
    "data.loc[(data[\"education\"].isnull()==True),\"education\"] = data[\"education\"].fillna(1.0)"
   ]
  },
  {
   "cell_type": "code",
   "execution_count": 351,
   "id": "e03e177c",
   "metadata": {},
   "outputs": [
    {
     "data": {
      "text/plain": [
       "False    4238\n",
       "Name: education, dtype: int64"
      ]
     },
     "execution_count": 351,
     "metadata": {},
     "output_type": "execute_result"
    }
   ],
   "source": [
    "data[\"education\"].isnull().value_counts()"
   ]
  },
  {
   "cell_type": "code",
   "execution_count": 352,
   "id": "4effb368",
   "metadata": {},
   "outputs": [
    {
     "data": {
      "text/plain": [
       "(53, 16)"
      ]
     },
     "execution_count": 352,
     "metadata": {},
     "output_type": "execute_result"
    }
   ],
   "source": [
    "data[data[\"BPMeds\"].isnull()==True].shape"
   ]
  },
  {
   "cell_type": "code",
   "execution_count": 353,
   "id": "649b22d3",
   "metadata": {},
   "outputs": [
    {
     "data": {
      "image/png": "[encoded data removed]",
      "text/plain": [
       "<Figure size 432x288 with 1 Axes>"
      ]
     },
     "metadata": {
      "needs_background": "light"
     },
     "output_type": "display_data"
    },
    {
     "name": "stderr",
     "output_type": "stream",
     "text": [
      "C:\\Users\\RajnarayanSahu\\anaconda3\\lib\\site-packages\\seaborn\\_decorators.py:36: FutureWarning: Pass the following variable as a keyword arg: x. From version 0.12, the only valid positional argument will be `data`, and passing other arguments without an explicit keyword will result in an error or misinterpretation.\n",
      "  warnings.warn(\n"
     ]
    },
    {
     "data": {
      "image/png": "[encoded data removed]",
      "text/plain": [
       "<Figure size 432x288 with 1 Axes>"
      ]
     },
     "metadata": {
      "needs_background": "light"
     },
     "output_type": "display_data"
    },
    {
     "data": {
      "image/png": "[encoded data removed]",
      "text/plain": [
       "<Figure size 432x288 with 1 Axes>"
      ]
     },
     "metadata": {
      "needs_background": "light"
     },
     "output_type": "display_data"
    }
   ],
   "source": [
    "data[data[\"BPMeds\"].isnull()==True]\n",
    "\n",
    "sns.boxplot(x=data[\"BPMeds\"],y=data[\"totChol\"])\n",
    "plt.show()\n",
    "sns.countplot(data[\"prevalentHyp\"])\n",
    "plt.show()\n",
    "sns.boxplot(x=data[\"BPMeds\"],y=data[\"BMI\"])\n",
    "plt.show()"
   ]
  },
  {
   "cell_type": "code",
   "execution_count": 354,
   "id": "6f1f92fe",
   "metadata": {},
   "outputs": [
    {
     "name": "stderr",
     "output_type": "stream",
     "text": [
      "C:\\Users\\RajnarayanSahu\\anaconda3\\lib\\site-packages\\seaborn\\_decorators.py:36: FutureWarning: Pass the following variable as a keyword arg: x. From version 0.12, the only valid positional argument will be `data`, and passing other arguments without an explicit keyword will result in an error or misinterpretation.\n",
      "  warnings.warn(\n"
     ]
    },
    {
     "data": {
      "text/plain": [
       "<AxesSubplot:xlabel='prevalentHyp', ylabel='count'>"
      ]
     },
     "execution_count": 354,
     "metadata": {},
     "output_type": "execute_result"
    },
    {
     "data": {
      "image/png": "[encoded data removed]",
      "text/plain": [
       "<Figure size 432x288 with 1 Axes>"
      ]
     },
     "metadata": {
      "needs_background": "light"
     },
     "output_type": "display_data"
    }
   ],
   "source": [
    "sns.countplot(data[data[\"BPMeds\"]==0][\"prevalentHyp\"])"
   ]
  },
  {
   "cell_type": "code",
   "execution_count": 355,
   "id": "10be9983",
   "metadata": {},
   "outputs": [],
   "source": [
    "data.loc[(data[\"BPMeds\"].isnull()==True),\"BPMeds\"] = data[\"BPMeds\"].fillna(0.0)"
   ]
  },
  {
   "cell_type": "code",
   "execution_count": 356,
   "id": "4a27799a",
   "metadata": {},
   "outputs": [],
   "source": [
    "data.loc[(data[\"cigsPerDay\"].isnull()==True),\"cigsPerDay\"] = data[\"cigsPerDay\"].fillna(data[\"cigsPerDay\"].mean())\n",
    "data.loc[(data[\"BMI\"].isnull()==True),\"BMI\"] = data[\"cigsPerDay\"].fillna(data[\"BMI\"].mean())\n",
    "data.loc[(data[\"heartRate\"].isnull()==True),\"heartRate\"] = data[\"heartRate\"].fillna(data[\"heartRate\"].mean())"
   ]
  },
  {
   "cell_type": "code",
   "execution_count": 357,
   "id": "c0d177c2",
   "metadata": {},
   "outputs": [
    {
     "data": {
      "text/plain": [
       "male               0.0\n",
       "age                0.0\n",
       "education          0.0\n",
       "currentSmoker      0.0\n",
       "cigsPerDay         0.0\n",
       "BPMeds             0.0\n",
       "prevalentStroke    0.0\n",
       "prevalentHyp       0.0\n",
       "diabetes           0.0\n",
       "totChol            0.0\n",
       "sysBP              0.0\n",
       "diaBP              0.0\n",
       "BMI                0.0\n",
       "heartRate          0.0\n",
       "glucose            0.0\n",
       "TenYearCHD         0.0\n",
       "dtype: float64"
      ]
     },
     "execution_count": 357,
     "metadata": {},
     "output_type": "execute_result"
    }
   ],
   "source": [
    "#Nulls treated\n",
    "round((data.isnull().mean())*100,2).sort_values(ascending=False)"
   ]
  },
  {
   "cell_type": "code",
   "execution_count": 358,
   "id": "224bd305",
   "metadata": {},
   "outputs": [
    {
     "data": {
      "text/html": [
       "<div>\n",
       "<style scoped>\n",
       "    .dataframe tbody tr th:only-of-type {\n",
       "        vertical-align: middle;\n",
       "    }\n",
       "\n",
       "    .dataframe tbody tr th {\n",
       "        vertical-align: top;\n",
       "    }\n",
       "\n",
       "    .dataframe thead th {\n",
       "        text-align: right;\n",
       "    }\n",
       "</style>\n",
       "<table border=\"1\" class=\"dataframe\">\n",
       "  <thead>\n",
       "    <tr style=\"text-align: right;\">\n",
       "      <th></th>\n",
       "      <th>male</th>\n",
       "      <th>age</th>\n",
       "      <th>education</th>\n",
       "      <th>currentSmoker</th>\n",
       "      <th>cigsPerDay</th>\n",
       "      <th>BPMeds</th>\n",
       "      <th>prevalentStroke</th>\n",
       "      <th>prevalentHyp</th>\n",
       "      <th>diabetes</th>\n",
       "      <th>totChol</th>\n",
       "      <th>sysBP</th>\n",
       "      <th>diaBP</th>\n",
       "      <th>BMI</th>\n",
       "      <th>heartRate</th>\n",
       "      <th>glucose</th>\n",
       "      <th>TenYearCHD</th>\n",
       "    </tr>\n",
       "  </thead>\n",
       "  <tbody>\n",
       "    <tr>\n",
       "      <th>0</th>\n",
       "      <td>1</td>\n",
       "      <td>39</td>\n",
       "      <td>4.0</td>\n",
       "      <td>0</td>\n",
       "      <td>0.0</td>\n",
       "      <td>0.0</td>\n",
       "      <td>0</td>\n",
       "      <td>0</td>\n",
       "      <td>0</td>\n",
       "      <td>195.0</td>\n",
       "      <td>106.0</td>\n",
       "      <td>70.0</td>\n",
       "      <td>26.97</td>\n",
       "      <td>80.0</td>\n",
       "      <td>77.0</td>\n",
       "      <td>0</td>\n",
       "    </tr>\n",
       "    <tr>\n",
       "      <th>1</th>\n",
       "      <td>0</td>\n",
       "      <td>46</td>\n",
       "      <td>2.0</td>\n",
       "      <td>0</td>\n",
       "      <td>0.0</td>\n",
       "      <td>0.0</td>\n",
       "      <td>0</td>\n",
       "      <td>0</td>\n",
       "      <td>0</td>\n",
       "      <td>250.0</td>\n",
       "      <td>121.0</td>\n",
       "      <td>81.0</td>\n",
       "      <td>28.73</td>\n",
       "      <td>95.0</td>\n",
       "      <td>76.0</td>\n",
       "      <td>0</td>\n",
       "    </tr>\n",
       "    <tr>\n",
       "      <th>2</th>\n",
       "      <td>1</td>\n",
       "      <td>48</td>\n",
       "      <td>1.0</td>\n",
       "      <td>1</td>\n",
       "      <td>20.0</td>\n",
       "      <td>0.0</td>\n",
       "      <td>0</td>\n",
       "      <td>0</td>\n",
       "      <td>0</td>\n",
       "      <td>245.0</td>\n",
       "      <td>127.5</td>\n",
       "      <td>80.0</td>\n",
       "      <td>25.34</td>\n",
       "      <td>75.0</td>\n",
       "      <td>70.0</td>\n",
       "      <td>0</td>\n",
       "    </tr>\n",
       "    <tr>\n",
       "      <th>3</th>\n",
       "      <td>0</td>\n",
       "      <td>61</td>\n",
       "      <td>3.0</td>\n",
       "      <td>1</td>\n",
       "      <td>30.0</td>\n",
       "      <td>0.0</td>\n",
       "      <td>0</td>\n",
       "      <td>1</td>\n",
       "      <td>0</td>\n",
       "      <td>225.0</td>\n",
       "      <td>150.0</td>\n",
       "      <td>95.0</td>\n",
       "      <td>28.58</td>\n",
       "      <td>65.0</td>\n",
       "      <td>103.0</td>\n",
       "      <td>1</td>\n",
       "    </tr>\n",
       "    <tr>\n",
       "      <th>4</th>\n",
       "      <td>0</td>\n",
       "      <td>46</td>\n",
       "      <td>3.0</td>\n",
       "      <td>1</td>\n",
       "      <td>23.0</td>\n",
       "      <td>0.0</td>\n",
       "      <td>0</td>\n",
       "      <td>0</td>\n",
       "      <td>0</td>\n",
       "      <td>285.0</td>\n",
       "      <td>130.0</td>\n",
       "      <td>84.0</td>\n",
       "      <td>23.10</td>\n",
       "      <td>85.0</td>\n",
       "      <td>85.0</td>\n",
       "      <td>0</td>\n",
       "    </tr>\n",
       "    <tr>\n",
       "      <th>...</th>\n",
       "      <td>...</td>\n",
       "      <td>...</td>\n",
       "      <td>...</td>\n",
       "      <td>...</td>\n",
       "      <td>...</td>\n",
       "      <td>...</td>\n",
       "      <td>...</td>\n",
       "      <td>...</td>\n",
       "      <td>...</td>\n",
       "      <td>...</td>\n",
       "      <td>...</td>\n",
       "      <td>...</td>\n",
       "      <td>...</td>\n",
       "      <td>...</td>\n",
       "      <td>...</td>\n",
       "      <td>...</td>\n",
       "    </tr>\n",
       "    <tr>\n",
       "      <th>4233</th>\n",
       "      <td>1</td>\n",
       "      <td>50</td>\n",
       "      <td>1.0</td>\n",
       "      <td>1</td>\n",
       "      <td>1.0</td>\n",
       "      <td>0.0</td>\n",
       "      <td>0</td>\n",
       "      <td>1</td>\n",
       "      <td>0</td>\n",
       "      <td>313.0</td>\n",
       "      <td>179.0</td>\n",
       "      <td>92.0</td>\n",
       "      <td>25.97</td>\n",
       "      <td>66.0</td>\n",
       "      <td>86.0</td>\n",
       "      <td>1</td>\n",
       "    </tr>\n",
       "    <tr>\n",
       "      <th>4234</th>\n",
       "      <td>1</td>\n",
       "      <td>51</td>\n",
       "      <td>3.0</td>\n",
       "      <td>1</td>\n",
       "      <td>43.0</td>\n",
       "      <td>0.0</td>\n",
       "      <td>0</td>\n",
       "      <td>0</td>\n",
       "      <td>0</td>\n",
       "      <td>207.0</td>\n",
       "      <td>126.5</td>\n",
       "      <td>80.0</td>\n",
       "      <td>19.71</td>\n",
       "      <td>65.0</td>\n",
       "      <td>68.0</td>\n",
       "      <td>0</td>\n",
       "    </tr>\n",
       "    <tr>\n",
       "      <th>4235</th>\n",
       "      <td>0</td>\n",
       "      <td>48</td>\n",
       "      <td>2.0</td>\n",
       "      <td>1</td>\n",
       "      <td>20.0</td>\n",
       "      <td>0.0</td>\n",
       "      <td>0</td>\n",
       "      <td>0</td>\n",
       "      <td>0</td>\n",
       "      <td>248.0</td>\n",
       "      <td>131.0</td>\n",
       "      <td>72.0</td>\n",
       "      <td>22.00</td>\n",
       "      <td>84.0</td>\n",
       "      <td>86.0</td>\n",
       "      <td>0</td>\n",
       "    </tr>\n",
       "    <tr>\n",
       "      <th>4236</th>\n",
       "      <td>0</td>\n",
       "      <td>44</td>\n",
       "      <td>1.0</td>\n",
       "      <td>1</td>\n",
       "      <td>15.0</td>\n",
       "      <td>0.0</td>\n",
       "      <td>0</td>\n",
       "      <td>0</td>\n",
       "      <td>0</td>\n",
       "      <td>210.0</td>\n",
       "      <td>126.5</td>\n",
       "      <td>87.0</td>\n",
       "      <td>19.16</td>\n",
       "      <td>86.0</td>\n",
       "      <td>77.0</td>\n",
       "      <td>0</td>\n",
       "    </tr>\n",
       "    <tr>\n",
       "      <th>4237</th>\n",
       "      <td>0</td>\n",
       "      <td>52</td>\n",
       "      <td>2.0</td>\n",
       "      <td>0</td>\n",
       "      <td>0.0</td>\n",
       "      <td>0.0</td>\n",
       "      <td>0</td>\n",
       "      <td>0</td>\n",
       "      <td>0</td>\n",
       "      <td>269.0</td>\n",
       "      <td>133.5</td>\n",
       "      <td>83.0</td>\n",
       "      <td>21.47</td>\n",
       "      <td>80.0</td>\n",
       "      <td>107.0</td>\n",
       "      <td>0</td>\n",
       "    </tr>\n",
       "  </tbody>\n",
       "</table>\n",
       "<p>4238 rows × 16 columns</p>\n",
       "</div>"
      ],
      "text/plain": [
       "      male  age  education  currentSmoker  cigsPerDay  BPMeds  \\\n",
       "0        1   39        4.0              0         0.0     0.0   \n",
       "1        0   46        2.0              0         0.0     0.0   \n",
       "2        1   48        1.0              1        20.0     0.0   \n",
       "3        0   61        3.0              1        30.0     0.0   \n",
       "4        0   46        3.0              1        23.0     0.0   \n",
       "...    ...  ...        ...            ...         ...     ...   \n",
       "4233     1   50        1.0              1         1.0     0.0   \n",
       "4234     1   51        3.0              1        43.0     0.0   \n",
       "4235     0   48        2.0              1        20.0     0.0   \n",
       "4236     0   44        1.0              1        15.0     0.0   \n",
       "4237     0   52        2.0              0         0.0     0.0   \n",
       "\n",
       "      prevalentStroke  prevalentHyp  diabetes  totChol  sysBP  diaBP    BMI  \\\n",
       "0                   0             0         0    195.0  106.0   70.0  26.97   \n",
       "1                   0             0         0    250.0  121.0   81.0  28.73   \n",
       "2                   0             0         0    245.0  127.5   80.0  25.34   \n",
       "3                   0             1         0    225.0  150.0   95.0  28.58   \n",
       "4                   0             0         0    285.0  130.0   84.0  23.10   \n",
       "...               ...           ...       ...      ...    ...    ...    ...   \n",
       "4233                0             1         0    313.0  179.0   92.0  25.97   \n",
       "4234                0             0         0    207.0  126.5   80.0  19.71   \n",
       "4235                0             0         0    248.0  131.0   72.0  22.00   \n",
       "4236                0             0         0    210.0  126.5   87.0  19.16   \n",
       "4237                0             0         0    269.0  133.5   83.0  21.47   \n",
       "\n",
       "      heartRate  glucose  TenYearCHD  \n",
       "0          80.0     77.0           0  \n",
       "1          95.0     76.0           0  \n",
       "2          75.0     70.0           0  \n",
       "3          65.0    103.0           1  \n",
       "4          85.0     85.0           0  \n",
       "...         ...      ...         ...  \n",
       "4233       66.0     86.0           1  \n",
       "4234       65.0     68.0           0  \n",
       "4235       84.0     86.0           0  \n",
       "4236       86.0     77.0           0  \n",
       "4237       80.0    107.0           0  \n",
       "\n",
       "[4238 rows x 16 columns]"
      ]
     },
     "execution_count": 358,
     "metadata": {},
     "output_type": "execute_result"
    }
   ],
   "source": [
    "data"
   ]
  },
  {
   "cell_type": "code",
   "execution_count": 413,
   "id": "2265d03a",
   "metadata": {},
   "outputs": [],
   "source": [
    "data_new3 = data\n",
    "data_new3\n",
    "y = data_new3[\"TenYearCHD\"]\n",
    "data_new3 = data_new3.drop(\"education\",axis=1)"
   ]
  },
  {
   "cell_type": "code",
   "execution_count": 414,
   "id": "d8aa4686",
   "metadata": {},
   "outputs": [
    {
     "data": {
      "text/plain": [
       "0       0\n",
       "1       0\n",
       "2       0\n",
       "3       1\n",
       "4       0\n",
       "       ..\n",
       "4233    1\n",
       "4234    0\n",
       "4235    0\n",
       "4236    0\n",
       "4237    0\n",
       "Name: TenYearCHD, Length: 4238, dtype: int64"
      ]
     },
     "execution_count": 414,
     "metadata": {},
     "output_type": "execute_result"
    }
   ],
   "source": [
    "X = data_new3.iloc[:,0:14]\n",
    "y"
   ]
  },
  {
   "cell_type": "code",
   "execution_count": 463,
   "id": "3b6a31bd",
   "metadata": {},
   "outputs": [],
   "source": [
    "X_train,X_test,y_train,y_test = train_test_split(X,y,test_size=0.2,random_state=42)\n",
    "sc = StandardScaler()\n",
    "X_train = sc.fit_transform(X_train,y_train)\n",
    "X_test = sc.transform(X_test)"
   ]
  },
  {
   "cell_type": "code",
   "execution_count": 464,
   "id": "9d93b9c3",
   "metadata": {},
   "outputs": [
    {
     "name": "stdout",
     "output_type": "stream",
     "text": [
      "Accuracy Score:  0.8561320754716981\n",
      "ROC AUC Score:  0.707215736945286\n",
      "Precision Score:  0.5625\n",
      "Recall Score:  0.07258064516129033\n",
      "f1 Score:  0.1285714285714286\n"
     ]
    }
   ],
   "source": [
    "LR = LogisticRegression(max_iter=1000)\n",
    "LR.fit(X_train,y_train)\n",
    "y_test_pred = LR.predict(X_test)\n",
    "y_test_pred_prob = LR.predict_proba(X_test)[::,1]\n",
    "from sklearn.metrics import roc_auc_score,accuracy_score,confusion_matrix,precision_score,recall_score,f1_score,roc_curve\n",
    "acc = accuracy_score(y_test,y_test_pred)\n",
    "aoc = roc_auc_score(y_test,y_test_pred_prob)\n",
    "prec = precision_score(y_test,y_test_pred)\n",
    "rec = recall_score(y_test,y_test_pred)\n",
    "f1 = f1_score(y_test,y_test_pred)\n",
    "tpr,fpr,_=roc_curve(y_test,y_test_pred_prob)\n",
    "print(\"Accuracy Score: \",acc)\n",
    "print(\"ROC AUC Score: \",aoc)\n",
    "print(\"Precision Score: \",prec)\n",
    "print(\"Recall Score: \",rec)\n",
    "print(\"f1 Score: \",f1)"
   ]
  },
  {
   "cell_type": "code",
   "execution_count": 458,
   "id": "05790e56",
   "metadata": {},
   "outputs": [
    {
     "name": "stdout",
     "output_type": "stream",
     "text": [
      "Accuracy Score:  0.8561320754716981\n",
      "ROC AUC Score:  0.707215736945286\n",
      "Precision Score:  0.5625\n",
      "Recall Score:  0.07258064516129033\n",
      "f1 Score:  0.1285714285714286\n"
     ]
    }
   ],
   "source": []
  },
  {
   "cell_type": "code",
   "execution_count": 465,
   "id": "561b2a73",
   "metadata": {},
   "outputs": [
    {
     "data": {
      "text/plain": [
       "array([[[717,   7],\n",
       "        [115,   9]]], dtype=int64)"
      ]
     },
     "execution_count": 465,
     "metadata": {},
     "output_type": "execute_result"
    }
   ],
   "source": [
    "np.array([confusion_matrix(y_test,y_test_pred)])"
   ]
  },
  {
   "cell_type": "code",
   "execution_count": 466,
   "id": "959362ec",
   "metadata": {},
   "outputs": [
    {
     "data": {
      "image/png": "[encoded data removed]",
      "text/plain": [
       "<Figure size 432x288 with 1 Axes>"
      ]
     },
     "metadata": {
      "needs_background": "light"
     },
     "output_type": "display_data"
    }
   ],
   "source": [
    "#tpr,fpr, _ = metrics.roc_curve(y_test_y_test_pred_prob)\n",
    "plt.plot(tpr,fpr)\n",
    "plt.xlabel(\"True Positive Rate\")\n",
    "plt.ylabel(\"False Positive Rate\")\n",
    "plt.show()"
   ]
  },
  {
   "cell_type": "code",
   "execution_count": 306,
   "id": "46fe8bc7",
   "metadata": {},
   "outputs": [
    {
     "data": {
      "text/plain": [
       "(3390,)"
      ]
     },
     "execution_count": 306,
     "metadata": {},
     "output_type": "execute_result"
    }
   ],
   "source": [
    "y_train.shape"
   ]
  }
 ],
 "metadata": {
  "kernelspec": {
   "display_name": "Python 3 (ipykernel)",
   "language": "python",
   "name": "python3"
  },
  "language_info": {
   "codemirror_mode": {
    "name": "ipython",
    "version": 3
   },
   "file_extension": ".py",
   "mimetype": "text/x-python",
   "name": "python",
   "nbconvert_exporter": "python",
   "pygments_lexer": "ipython3",
   "version": "3.9.12"
  }
 },
 "nbformat": 4,
 "nbformat_minor": 5
}
